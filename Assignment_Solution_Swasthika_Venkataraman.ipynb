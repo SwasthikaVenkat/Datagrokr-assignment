{
  "nbformat": 4,
  "nbformat_minor": 0,
  "metadata": {
    "colab": {
      "provenance": [],
      "collapsed_sections": []
    },
    "kernelspec": {
      "name": "python3",
      "display_name": "Python 3"
    },
    "language_info": {
      "name": "python"
    }
  },
  "cells": [
    {
      "cell_type": "markdown",
      "source": [
        "# PySpark ASSIGNMENT"
      ],
      "metadata": {
        "id": "UgNSgF30NQZ7"
      }
    },
    {
      "cell_type": "markdown",
      "source": [
        "## Initialising and updating all the neccessary tools and packages"
      ],
      "metadata": {
        "id": "ybX0Vg3iUW5y"
      }
    },
    {
      "cell_type": "code",
      "execution_count": 1,
      "metadata": {
        "colab": {
          "base_uri": "https://localhost:8080/"
        },
        "id": "6i2VUtpRsO3X",
        "outputId": "2a94ada6-7264-41d4-f7ea-14a025ac4c2b"
      },
      "outputs": [
        {
          "output_type": "stream",
          "name": "stdout",
          "text": [
            "Get:1 https://cloud.r-project.org/bin/linux/ubuntu bionic-cran40/ InRelease [3,626 B]\n",
            "Ign:2 https://developer.download.nvidia.com/compute/machine-learning/repos/ubuntu1804/x86_64  InRelease\n",
            "Hit:3 https://developer.download.nvidia.com/compute/cuda/repos/ubuntu1804/x86_64  InRelease\n",
            "Hit:4 https://developer.download.nvidia.com/compute/machine-learning/repos/ubuntu1804/x86_64  Release\n",
            "Hit:5 http://ppa.launchpad.net/c2d4u.team/c2d4u4.0+/ubuntu bionic InRelease\n",
            "Get:6 http://security.ubuntu.com/ubuntu bionic-security InRelease [88.7 kB]\n",
            "Hit:7 http://archive.ubuntu.com/ubuntu bionic InRelease\n",
            "Hit:8 http://ppa.launchpad.net/cran/libgit2/ubuntu bionic InRelease\n",
            "Get:9 http://archive.ubuntu.com/ubuntu bionic-updates InRelease [88.7 kB]\n",
            "Hit:11 http://ppa.launchpad.net/deadsnakes/ppa/ubuntu bionic InRelease\n",
            "Get:12 http://archive.ubuntu.com/ubuntu bionic-backports InRelease [74.6 kB]\n",
            "Hit:13 http://ppa.launchpad.net/graphics-drivers/ppa/ubuntu bionic InRelease\n",
            "Get:14 http://security.ubuntu.com/ubuntu bionic-security/restricted amd64 Packages [1,114 kB]\n",
            "Get:15 http://archive.ubuntu.com/ubuntu bionic-updates/restricted amd64 Packages [1,162 kB]\n",
            "Get:16 http://security.ubuntu.com/ubuntu bionic-security/main amd64 Packages [2,953 kB]\n",
            "Get:17 http://security.ubuntu.com/ubuntu bionic-security/universe amd64 Packages [1,540 kB]\n",
            "Get:18 http://archive.ubuntu.com/ubuntu bionic-updates/main amd64 Packages [3,390 kB]\n",
            "Fetched 10.4 MB in 4s (2,970 kB/s)\n",
            "Reading package lists... Done\n"
          ]
        }
      ],
      "source": [
        "!apt-get update -y"
      ]
    },
    {
      "cell_type": "code",
      "source": [
        "!apt-get install openjdk-8-jdk-headless -qq > /dev/null"
      ],
      "metadata": {
        "id": "mfafTX52sRME"
      },
      "execution_count": 2,
      "outputs": []
    },
    {
      "cell_type": "code",
      "source": [
        "!wget -q https://archive.apache.org/dist/spark/spark-3.1.2/spark-3.1.2-bin-hadoop2.7.tgz"
      ],
      "metadata": {
        "id": "f5lSMysjxrIb"
      },
      "execution_count": 3,
      "outputs": []
    },
    {
      "cell_type": "code",
      "source": [
        "!tar xf spark-3.1.2-bin-hadoop2.7.tgz"
      ],
      "metadata": {
        "id": "WwvT8f9WzWnp"
      },
      "execution_count": 4,
      "outputs": []
    },
    {
      "cell_type": "code",
      "source": [
        "import os\n",
        "os.environ[\"JAVA_HOME\"] = \"/usr/lib/jvm/java-8-openjdk-amd64\"\n",
        "os.environ[\"SPARK_HOME\"] = \"/content/spark-3.1.2-bin-hadoop2.7\""
      ],
      "metadata": {
        "id": "a6GnrNoRzaXd"
      },
      "execution_count": 5,
      "outputs": []
    },
    {
      "cell_type": "code",
      "source": [
        "!pip install -q findspark\n",
        "import findspark\n",
        "findspark.init()"
      ],
      "metadata": {
        "id": "bT8wwUQbzcuv"
      },
      "execution_count": 6,
      "outputs": []
    },
    {
      "cell_type": "code",
      "source": [
        "from pyspark.sql import SparkSession\n",
        "spark = (SparkSession\n",
        ".builder\n",
        ".appName(\"<app_name>\")\n",
        ".getOrCreate())"
      ],
      "metadata": {
        "id": "PnCt_ri5zew-"
      },
      "execution_count": 7,
      "outputs": []
    },
    {
      "cell_type": "code",
      "source": [
        "pip install gdown"
      ],
      "metadata": {
        "colab": {
          "base_uri": "https://localhost:8080/"
        },
        "id": "mF9gAiZpziL0",
        "outputId": "80f831c2-19dc-48d8-a159-a86bb2dda22d"
      },
      "execution_count": 8,
      "outputs": [
        {
          "output_type": "stream",
          "name": "stdout",
          "text": [
            "Looking in indexes: https://pypi.org/simple, https://us-python.pkg.dev/colab-wheels/public/simple/\n",
            "Requirement already satisfied: gdown in /usr/local/lib/python3.7/dist-packages (4.4.0)\n",
            "Requirement already satisfied: six in /usr/local/lib/python3.7/dist-packages (from gdown) (1.15.0)\n",
            "Requirement already satisfied: filelock in /usr/local/lib/python3.7/dist-packages (from gdown) (3.8.0)\n",
            "Requirement already satisfied: beautifulsoup4 in /usr/local/lib/python3.7/dist-packages (from gdown) (4.6.3)\n",
            "Requirement already satisfied: requests[socks] in /usr/local/lib/python3.7/dist-packages (from gdown) (2.23.0)\n",
            "Requirement already satisfied: tqdm in /usr/local/lib/python3.7/dist-packages (from gdown) (4.64.0)\n",
            "Requirement already satisfied: urllib3!=1.25.0,!=1.25.1,<1.26,>=1.21.1 in /usr/local/lib/python3.7/dist-packages (from requests[socks]->gdown) (1.24.3)\n",
            "Requirement already satisfied: certifi>=2017.4.17 in /usr/local/lib/python3.7/dist-packages (from requests[socks]->gdown) (2022.6.15)\n",
            "Requirement already satisfied: idna<3,>=2.5 in /usr/local/lib/python3.7/dist-packages (from requests[socks]->gdown) (2.10)\n",
            "Requirement already satisfied: chardet<4,>=3.0.2 in /usr/local/lib/python3.7/dist-packages (from requests[socks]->gdown) (3.0.4)\n",
            "Requirement already satisfied: PySocks!=1.5.7,>=1.5.6 in /usr/local/lib/python3.7/dist-packages (from requests[socks]->gdown) (1.7.1)\n"
          ]
        }
      ]
    },
    {
      "cell_type": "markdown",
      "source": [
        "## Installing required datasets and creating dataframes"
      ],
      "metadata": {
        "id": "YPck3uDIU3Z6"
      }
    },
    {
      "cell_type": "code",
      "source": [
        "import gdown\n",
        "url = \"https://drive.google.com/drive/folders/1QgWPHV_l25Ui9L7et8mkZohAOG59UTkQ\"\n",
        "gdown.download_folder(url, quiet=True, use_cookies=False)"
      ],
      "metadata": {
        "colab": {
          "base_uri": "https://localhost:8080/"
        },
        "id": "sPKOzv6ryHwK",
        "outputId": "a577bc3a-9f6f-46bd-9183-7dc8af30acd6"
      },
      "execution_count": 9,
      "outputs": [
        {
          "output_type": "execute_result",
          "data": {
            "text/plain": [
              "['/content/chess/chess_schema.png',\n",
              " '/content/chess/chess_wc_history_game_info.csv',\n",
              " '/content/chess/chess_wc_history_moves.csv',\n",
              " '/content/chess/eco_codes.csv']"
            ]
          },
          "metadata": {},
          "execution_count": 9
        }
      ]
    },
    {
      "cell_type": "code",
      "source": [
        "df = spark.read.load(\"chess/chess_wc_history_game_info.csv\", format=\"csv\", sep=\",\", inferSchema=\"true\", header=\"true\")\n",
        "df2 = spark.read.load(\"chess/chess_wc_history_moves.csv\", format=\"csv\", sep=\",\", inferSchema=\"true\", header=\"true\")\n",
        "df1 = spark.read.load(\"chess/eco_codes.csv\", format=\"csv\", sep=\",\", inferSchema=\"true\", header=\"true\")"
      ],
      "metadata": {
        "id": "b7omt_DKynoJ"
      },
      "execution_count": 10,
      "outputs": []
    },
    {
      "cell_type": "markdown",
      "source": [
        "## Basic EDA"
      ],
      "metadata": {
        "id": "tOwXiwe6VDdp"
      }
    },
    {
      "cell_type": "code",
      "source": [
        "df.show()"
      ],
      "metadata": {
        "colab": {
          "base_uri": "https://localhost:8080/"
        },
        "id": "GIcvlgJbxgRq",
        "outputId": "a1f7bf97-d003-4ef4-8e1e-d3831fd28a81"
      },
      "execution_count": 28,
      "outputs": [
        {
          "output_type": "stream",
          "name": "stdout",
          "text": [
            "+--------------------+----------+--------+----------+-----------+-----+----------------+----------------+-------+---------+---------+-----------+-----------+---------+----------+----------------+---------+---------------------+---+--------------------+---------------+\n",
            "|             game_id|game_order|   event|      site|date_played|round|           white|           black| result|white_elo|black_elo|white_title|black_title|   winner|winner_elo|           loser|loser_elo|winner_loser_elo_diff|eco|        date_created|tournament_name|\n",
            "+--------------------+----------+--------+----------+-----------+-----+----------------+----------------+-------+---------+---------+-----------+-----------+---------+----------+----------------+---------+---------------------+---+--------------------+---------------+\n",
            "|86e0b7f5-7b94-4ae...|         1|WCh 2021| Dubai UAE| 2021.11.26|  1.0|Nepomniachtchi,I|       Carlsen,M|1/2-1/2|     2782|     2855|       null|       null|     draw|      null|            draw|     null|                    0|C88|2022-07-22T22:33:...| WorldChamp2021|\n",
            "|dc4a10ab-54cf-49d...|         2|WCh 2021| Dubai UAE| 2021.11.27|  2.0|       Carlsen,M|Nepomniachtchi,I|1/2-1/2|     2855|     2782|       null|       null|     draw|      null|            draw|     null|                    0|E06|2022-07-22T22:33:...| WorldChamp2021|\n",
            "|f042ca37-8899-488...|         3|WCh 2021| Dubai UAE| 2021.11.28|  3.0|Nepomniachtchi,I|       Carlsen,M|1/2-1/2|     2782|     2855|       null|       null|     draw|      null|            draw|     null|                    0|C88|2022-07-22T22:33:...| WorldChamp2021|\n",
            "|f70e4bbc-21e3-46f...|         4|WCh 2021| Dubai UAE| 2021.11.30|  4.0|       Carlsen,M|Nepomniachtchi,I|1/2-1/2|     2855|     2782|       null|       null|     draw|      null|            draw|     null|                    0|C42|2022-07-22T22:33:...| WorldChamp2021|\n",
            "|c941c323-308a-4c8...|         5|WCh 2021| Dubai UAE| 2021.12.01|  5.0|Nepomniachtchi,I|       Carlsen,M|1/2-1/2|     2782|     2855|       null|       null|     draw|      null|            draw|     null|                    0|C88|2022-07-22T22:33:...| WorldChamp2021|\n",
            "|58e83255-93bb-4d5...|         6|WCh 2021| Dubai UAE| 2021.12.03|  6.0|       Carlsen,M|Nepomniachtchi,I|    1-0|     2855|     2782|       null|       null|Carlsen,M|      2855|Nepomniachtchi,I|     2782|                   73|D02|2022-07-22T22:33:...| WorldChamp2021|\n",
            "|29181d93-73f4-4fb...|         7|WCh 2021| Dubai UAE| 2021.12.04|  7.0|Nepomniachtchi,I|       Carlsen,M|1/2-1/2|     2782|     2855|       null|       null|     draw|      null|            draw|     null|                    0|C88|2022-07-22T22:33:...| WorldChamp2021|\n",
            "|8a4ccd8c-d437-429...|         8|WCh 2021| Dubai UAE| 2021.12.05|  8.0|       Carlsen,M|Nepomniachtchi,I|    1-0|     2855|     2782|       null|       null|Carlsen,M|      2855|Nepomniachtchi,I|     2782|                   73|C43|2022-07-22T22:33:...| WorldChamp2021|\n",
            "|55a122db-27d1-495...|         9|WCh 2021| Dubai UAE| 2021.12.07|  9.0|Nepomniachtchi,I|       Carlsen,M|    0-1|     2782|     2855|       null|       null|Carlsen,M|      2855|Nepomniachtchi,I|     2782|                   73|A13|2022-07-22T22:33:...| WorldChamp2021|\n",
            "|1f900d18-5ea3-4f4...|        10|WCh 2021| Dubai UAE| 2021.12.08| 10.0|       Carlsen,M|Nepomniachtchi,I|1/2-1/2|     2855|     2782|       null|       null|     draw|      null|            draw|     null|                    0|C42|2022-07-22T22:33:...| WorldChamp2021|\n",
            "|c512a953-a341-47c...|        11|WCh 2021| Dubai UAE| 2021.12.10| 11.0|Nepomniachtchi,I|       Carlsen,M|    0-1|     2782|     2855|       null|       null|Carlsen,M|      2855|Nepomniachtchi,I|     2782|                   73|C50|2022-07-22T22:33:...| WorldChamp2021|\n",
            "|99d39a93-427e-4d1...|         1|WCh 2018|London ENG| 2018.11.09|  1.0|Caruana, Fabiano| Carlsen, Magnus|1/2-1/2|     2832|     2835|         GM|         GM|     draw|      null|            draw|     null|                    0|B31|2022-07-22T22:33:...| WorldChamp2018|\n",
            "|c87ceb3e-67a7-45d...|         2|WCh 2018|London ENG| 2018.11.10|  2.0| Carlsen, Magnus|Caruana, Fabiano|1/2-1/2|     2835|     2832|         GM|         GM|     draw|      null|            draw|     null|                    0|D37|2022-07-22T22:33:...| WorldChamp2018|\n",
            "|d50510ea-9c1a-460...|         3|WCh 2018|London ENG| 2018.11.12|  3.0|Caruana, Fabiano| Carlsen, Magnus|1/2-1/2|     2832|     2835|         GM|         GM|     draw|      null|            draw|     null|                    0|B31|2022-07-22T22:33:...| WorldChamp2018|\n",
            "|e899e16a-281e-41b...|         4|WCh 2018|London ENG| 2018.11.13|  4.0| Carlsen, Magnus|Caruana, Fabiano|1/2-1/2|     2835|     2832|         GM|         GM|     draw|      null|            draw|     null|                    0|A29|2022-07-22T22:33:...| WorldChamp2018|\n",
            "|59f8da88-fd21-405...|         5|WCh 2018|London ENG| 2018.11.15|  5.0|Caruana, Fabiano| Carlsen, Magnus|1/2-1/2|     2832|     2835|         GM|         GM|     draw|      null|            draw|     null|                    0|B31|2022-07-22T22:33:...| WorldChamp2018|\n",
            "|6dcc4b46-3155-47e...|         6|WCh 2018|London ENG| 2018.11.16|  6.0| Carlsen, Magnus|Caruana, Fabiano|1/2-1/2|     2835|     2832|         GM|         GM|     draw|      null|            draw|     null|                    0|C42|2022-07-22T22:33:...| WorldChamp2018|\n",
            "|c0c727cf-03ec-4b4...|         7|WCh 2018|London ENG| 2018.11.18|  7.0| Carlsen, Magnus|Caruana, Fabiano|1/2-1/2|     2835|     2832|         GM|         GM|     draw|      null|            draw|     null|                    0|D37|2022-07-22T22:33:...| WorldChamp2018|\n",
            "|4c14e044-cacc-405...|         8|WCh 2018|London ENG| 2018.11.19|  8.0|Caruana, Fabiano| Carlsen, Magnus|1/2-1/2|     2832|     2835|         GM|         GM|     draw|      null|            draw|     null|                    0|B33|2022-07-22T22:33:...| WorldChamp2018|\n",
            "|3f4eb26e-3cd1-43b...|         9|WCh 2018|London ENG| 2018.11.21|  9.0| Carlsen, Magnus|Caruana, Fabiano|1/2-1/2|     2835|     2832|         GM|         GM|     draw|      null|            draw|     null|                    0|A29|2022-07-22T22:33:...| WorldChamp2018|\n",
            "+--------------------+----------+--------+----------+-----------+-----+----------------+----------------+-------+---------+---------+-----------+-----------+---------+----------+----------------+---------+---------------------+---+--------------------+---------------+\n",
            "only showing top 20 rows\n",
            "\n"
          ]
        }
      ]
    },
    {
      "cell_type": "code",
      "source": [
        "df1.show()"
      ],
      "metadata": {
        "colab": {
          "base_uri": "https://localhost:8080/"
        },
        "id": "zk_5XeXexj23",
        "outputId": "7aa8e8b0-643e-4e3d-c320-8a482f014065"
      },
      "execution_count": 30,
      "outputs": [
        {
          "output_type": "stream",
          "name": "stdout",
          "text": [
            "+---+--------------------+--------------------+--------+---------+\n",
            "|eco|            eco_name|         eco_example|eco_type|eco_group|\n",
            "+---+--------------------+--------------------+--------+---------+\n",
            "|A00|    Uncommon Opening|  1 g4, a3, h3, etc.|       A|    Flank|\n",
            "|A01|Nimzovich-Larsen ...|                1 b3|       A|    Flank|\n",
            "|A02|      Bird's Opening|                1 f4|       A|    Flank|\n",
            "|A03|      Bird's Opening|             1 f4 d5|       A|    Flank|\n",
            "|A04|        Reti Opening|               1 Nf3|       A|    Flank|\n",
            "|A05|        Reti Opening|           1 Nf3 Nf6|       A|    Flank|\n",
            "|A06|        Reti Opening|            1 Nf3 d5|       A|    Flank|\n",
            "|A07|King's Indian Attack|       1 Nf3 d5 2 g3|       A|    Flank|\n",
            "|A08|King's Indian Attack|1 Nf3 d5 2 g3 c5 ...|       A|    Flank|\n",
            "|A09|        Reti Opening|       1 Nf3 d5 2 c4|       A|    Flank|\n",
            "|A10|             English|                1 c4|       A|    Flank|\n",
            "|A11|English, Caro-Kan...|             1 c4 c6|       A|    Flank|\n",
            "|A12|     English with b3|1 c4 c6 2 Nf3 d5 ...|       A|    Flank|\n",
            "|A13|             English|             1 c4 e6|       A|    Flank|\n",
            "|A14|             English|1 c4 e6 2 Nf3 d5 ...|       A|    Flank|\n",
            "|A15|             English|            1 c4 Nf6|       A|    Flank|\n",
            "|A16|             English|      1 c4 Nf6 2 Nc3|       A|    Flank|\n",
            "|A17|             English|   1 c4 Nf6 2 Nc3 e6|       A|    Flank|\n",
            "|A18|English, Mikenas-...|1 c4 Nf6 2 Nc3 e6...|       A|    Flank|\n",
            "|A19|English, Mikenas-...|1 c4 Nf6 2 Nc3 e6...|       A|    Flank|\n",
            "+---+--------------------+--------------------+--------+---------+\n",
            "only showing top 20 rows\n",
            "\n"
          ]
        }
      ]
    },
    {
      "cell_type": "code",
      "source": [
        "df2.show()"
      ],
      "metadata": {
        "colab": {
          "base_uri": "https://localhost:8080/"
        },
        "id": "8uJfh4CRxkc7",
        "outputId": "cf234cbb-1fa5-4fd2-cc84-42b6f3280b78"
      },
      "execution_count": 31,
      "outputs": [
        {
          "output_type": "stream",
          "name": "stdout",
          "text": [
            "+--------------------+-------+------------+----------------+--------+----+-----------+---------+-----+-----+--------------------+--------+-------------+--------------+----------------------+------------+------------------------+-----------+-----------+----------------+----------------+-----------------+-----------------+------------------+------------------+------------------+------------------+----------------+----------------+------------------------+------------------------+--------------------+--------------------+--------------------+--------------------+--------------------+--------------------+--------------------+--------------------+--------------------+--------------------+--------------------+--------------------+--------------------+--------------------+--------------------+--------------------+--------------------+--------------------+--------------------+--------------------+--------------------+--------------------+--------------------+--------------------+--------------------+--------------------+--------------------+--------------------+--------------------+--------------------+--------------------+--------------------+--------------------+\n",
            "|             game_id|move_no|move_no_pair|          player|notation|move|from_square|to_square|piece|color|                 fen|is_check|is_check_mate|is_fifty_moves|is_fivefold_repetition|is_game_over|is_insufficient_material|white_count|black_count|white_pawn_count|black_pawn_count|white_queen_count|black_queen_count|white_bishop_count|black_bishop_count|white_knight_count|black_knight_count|white_rook_count|black_rook_count|captured_score_for_white|captured_score_for_black|fen_row1_white_count|fen_row2_white_count|fen_row3_white_count|fen_row4_white_count|fen_row5_white_count|fen_row6_white_count|fen_row7_white_count|fen_row8_white_count|fen_row1_white_value|fen_row2_white_value|fen_row3_white_value|fen_row4_white_value|fen_row5_white_value|fen_row6_white_value|fen_row7_white_value|fen_row8_white_value|fen_row1_black_count|fen_row2_black_count|fen_row3_black_count|fen_row4_black_count|fen_row5_black_count|fen_row6_black_count|fen_row7_black_count|fen_row8_black_count|fen_row1_black_value|fen_row2_black_value|fen_row3_black_value|fen_row4_black_value|fen_row5_black_value|fen_row6_black_value|fen_row7_black_value|fen_row8_black_value|       move_sequence|\n",
            "+--------------------+-------+------------+----------------+--------+----+-----------+---------+-----+-----+--------------------+--------+-------------+--------------+----------------------+------------+------------------------+-----------+-----------+----------------+----------------+-----------------+-----------------+------------------+------------------+------------------+------------------+----------------+----------------+------------------------+------------------------+--------------------+--------------------+--------------------+--------------------+--------------------+--------------------+--------------------+--------------------+--------------------+--------------------+--------------------+--------------------+--------------------+--------------------+--------------------+--------------------+--------------------+--------------------+--------------------+--------------------+--------------------+--------------------+--------------------+--------------------+--------------------+--------------------+--------------------+--------------------+--------------------+--------------------+--------------------+--------------------+--------------------+\n",
            "|86e0b7f5-7b94-4ae...|      1|           1|Nepomniachtchi,I|      e4|e2e4|         e2|       e4|    P|White|rnbqkbnr/pppppppp...|       0|            0|             0|                     0|           0|                       0|         16|         16|               8|               8|                1|                1|                 2|                 2|                 2|                 2|               2|               2|                       0|                       0|                   8|                   7|                   0|                   1|                   0|                   0|                   0|                   0|                  31|                   7|                   0|                   1|                   0|                   0|                   0|                   0|                   0|                   0|                   0|                   0|                   0|                   0|                   8|                   8|                   0|                   0|                   0|                   0|                   0|                   0|                   8|                  31|                  e4|\n",
            "|86e0b7f5-7b94-4ae...|      2|           1|       Carlsen,M|      e5|e7e5|         e7|       e5|    P|Black|rnbqkbnr/pppp1ppp...|       0|            0|             0|                     0|           0|                       0|         16|         16|               8|               8|                1|                1|                 2|                 2|                 2|                 2|               2|               2|                       0|                       0|                   8|                   7|                   0|                   1|                   0|                   0|                   0|                   0|                  31|                   7|                   0|                   1|                   0|                   0|                   0|                   0|                   0|                   0|                   0|                   0|                   1|                   0|                   7|                   8|                   0|                   0|                   0|                   0|                   1|                   0|                   7|                  31|               e4|e5|\n",
            "|86e0b7f5-7b94-4ae...|      3|           2|Nepomniachtchi,I|     Nf3|g1f3|         g1|       f3|    N|White|rnbqkbnr/pppp1ppp...|       0|            0|             0|                     0|           0|                       0|         16|         16|               8|               8|                1|                1|                 2|                 2|                 2|                 2|               2|               2|                       0|                       0|                   7|                   7|                   1|                   1|                   0|                   0|                   0|                   0|                  28|                   7|                   3|                   1|                   0|                   0|                   0|                   0|                   0|                   0|                   0|                   0|                   1|                   0|                   7|                   8|                   0|                   0|                   0|                   0|                   1|                   0|                   7|                  31|           e4|e5|Nf3|\n",
            "|86e0b7f5-7b94-4ae...|      4|           2|       Carlsen,M|     Nc6|b8c6|         b8|       c6|    N|Black|r1bqkbnr/pppp1ppp...|       0|            0|             0|                     0|           0|                       0|         16|         16|               8|               8|                1|                1|                 2|                 2|                 2|                 2|               2|               2|                       0|                       0|                   7|                   7|                   1|                   1|                   0|                   0|                   0|                   0|                  28|                   7|                   3|                   1|                   0|                   0|                   0|                   0|                   0|                   0|                   0|                   0|                   1|                   1|                   7|                   7|                   0|                   0|                   0|                   0|                   1|                   3|                   7|                  28|       e4|e5|Nf3|Nc6|\n",
            "|86e0b7f5-7b94-4ae...|      5|           3|Nepomniachtchi,I|     Bb5|f1b5|         f1|       b5|    B|White|r1bqkbnr/pppp1ppp...|       0|            0|             0|                     0|           0|                       0|         16|         16|               8|               8|                1|                1|                 2|                 2|                 2|                 2|               2|               2|                       0|                       0|                   6|                   7|                   1|                   1|                   1|                   0|                   0|                   0|                  25|                   7|                   3|                   1|                   3|                   0|                   0|                   0|                   0|                   0|                   0|                   0|                   1|                   1|                   7|                   7|                   0|                   0|                   0|                   0|                   1|                   3|                   7|                  28|   e4|e5|Nf3|Nc6|Bb5|\n",
            "|86e0b7f5-7b94-4ae...|      6|           3|       Carlsen,M|      a6|a7a6|         a7|       a6|    P|Black|r1bqkbnr/1ppp1ppp...|       0|            0|             0|                     0|           0|                       0|         16|         16|               8|               8|                1|                1|                 2|                 2|                 2|                 2|               2|               2|                       0|                       0|                   6|                   7|                   1|                   1|                   1|                   0|                   0|                   0|                  25|                   7|                   3|                   1|                   3|                   0|                   0|                   0|                   0|                   0|                   0|                   0|                   1|                   2|                   6|                   7|                   0|                   0|                   0|                   0|                   1|                   4|                   6|                  28|e4|e5|Nf3|Nc6|Bb5|a6|\n",
            "|86e0b7f5-7b94-4ae...|      7|           4|Nepomniachtchi,I|     Ba4|b5a4|         b5|       a4|    B|White|r1bqkbnr/1ppp1ppp...|       0|            0|             0|                     0|           0|                       0|         16|         16|               8|               8|                1|                1|                 2|                 2|                 2|                 2|               2|               2|                       0|                       0|                   6|                   7|                   1|                   2|                   0|                   0|                   0|                   0|                  25|                   7|                   3|                   4|                   0|                   0|                   0|                   0|                   0|                   0|                   0|                   0|                   1|                   2|                   6|                   7|                   0|                   0|                   0|                   0|                   1|                   4|                   6|                  28|e4|e5|Nf3|Nc6|Bb5...|\n",
            "|86e0b7f5-7b94-4ae...|      8|           4|       Carlsen,M|     Nf6|g8f6|         g8|       f6|    N|Black|r1bqkb1r/1ppp1ppp...|       0|            0|             0|                     0|           0|                       0|         16|         16|               8|               8|                1|                1|                 2|                 2|                 2|                 2|               2|               2|                       0|                       0|                   6|                   7|                   1|                   2|                   0|                   0|                   0|                   0|                  25|                   7|                   3|                   4|                   0|                   0|                   0|                   0|                   0|                   0|                   0|                   0|                   1|                   3|                   6|                   6|                   0|                   0|                   0|                   0|                   1|                   7|                   6|                  25|e4|e5|Nf3|Nc6|Bb5...|\n",
            "|86e0b7f5-7b94-4ae...|      9|           5|Nepomniachtchi,I|     O-O|e1g1|         e1|       g1|    K|White|r1bqkb1r/1ppp1ppp...|       0|            0|             0|                     0|           0|                       0|         16|         16|               8|               8|                1|                1|                 2|                 2|                 2|                 2|               2|               2|                       0|                       0|                   6|                   7|                   1|                   2|                   0|                   0|                   0|                   0|                  25|                   7|                   3|                   4|                   0|                   0|                   0|                   0|                   0|                   0|                   0|                   0|                   1|                   3|                   6|                   6|                   0|                   0|                   0|                   0|                   1|                   7|                   6|                  25|e4|e5|Nf3|Nc6|Bb5...|\n",
            "|86e0b7f5-7b94-4ae...|     10|           5|       Carlsen,M|     Be7|f8e7|         f8|       e7|    B|Black|r1bqk2r/1pppbppp/...|       0|            0|             0|                     0|           0|                       0|         16|         16|               8|               8|                1|                1|                 2|                 2|                 2|                 2|               2|               2|                       0|                       0|                   6|                   7|                   1|                   2|                   0|                   0|                   0|                   0|                  25|                   7|                   3|                   4|                   0|                   0|                   0|                   0|                   0|                   0|                   0|                   0|                   1|                   3|                   7|                   5|                   0|                   0|                   0|                   0|                   1|                   7|                   9|                  22|e4|e5|Nf3|Nc6|Bb5...|\n",
            "|86e0b7f5-7b94-4ae...|     11|           6|Nepomniachtchi,I|     Re1|f1e1|         f1|       e1|    R|White|r1bqk2r/1pppbppp/...|       0|            0|             0|                     0|           0|                       0|         16|         16|               8|               8|                1|                1|                 2|                 2|                 2|                 2|               2|               2|                       0|                       0|                   6|                   7|                   1|                   2|                   0|                   0|                   0|                   0|                  25|                   7|                   3|                   4|                   0|                   0|                   0|                   0|                   0|                   0|                   0|                   0|                   1|                   3|                   7|                   5|                   0|                   0|                   0|                   0|                   1|                   7|                   9|                  22|e4|e5|Nf3|Nc6|Bb5...|\n",
            "|86e0b7f5-7b94-4ae...|     12|           6|       Carlsen,M|      b5|b7b5|         b7|       b5|    P|Black|r1bqk2r/2ppbppp/p...|       0|            0|             0|                     0|           0|                       0|         16|         16|               8|               8|                1|                1|                 2|                 2|                 2|                 2|               2|               2|                       0|                       0|                   6|                   7|                   1|                   2|                   0|                   0|                   0|                   0|                  25|                   7|                   3|                   4|                   0|                   0|                   0|                   0|                   0|                   0|                   0|                   0|                   2|                   3|                   6|                   5|                   0|                   0|                   0|                   0|                   2|                   7|                   8|                  22|e4|e5|Nf3|Nc6|Bb5...|\n",
            "|86e0b7f5-7b94-4ae...|     13|           7|Nepomniachtchi,I|     Bb3|a4b3|         a4|       b3|    B|White|r1bqk2r/2ppbppp/p...|       0|            0|             0|                     0|           0|                       0|         16|         16|               8|               8|                1|                1|                 2|                 2|                 2|                 2|               2|               2|                       0|                       0|                   6|                   7|                   2|                   1|                   0|                   0|                   0|                   0|                  25|                   7|                   6|                   1|                   0|                   0|                   0|                   0|                   0|                   0|                   0|                   0|                   2|                   3|                   6|                   5|                   0|                   0|                   0|                   0|                   2|                   7|                   8|                  22|e4|e5|Nf3|Nc6|Bb5...|\n",
            "|86e0b7f5-7b94-4ae...|     14|           7|       Carlsen,M|     O-O|e8g8|         e8|       g8|    K|Black|r1bq1rk1/2ppbppp/...|       0|            0|             0|                     0|           0|                       0|         16|         16|               8|               8|                1|                1|                 2|                 2|                 2|                 2|               2|               2|                       0|                       0|                   6|                   7|                   2|                   1|                   0|                   0|                   0|                   0|                  25|                   7|                   6|                   1|                   0|                   0|                   0|                   0|                   0|                   0|                   0|                   0|                   2|                   3|                   6|                   5|                   0|                   0|                   0|                   0|                   2|                   7|                   8|                  22|e4|e5|Nf3|Nc6|Bb5...|\n",
            "|86e0b7f5-7b94-4ae...|     15|           8|Nepomniachtchi,I|      h3|h2h3|         h2|       h3|    P|White|r1bq1rk1/2ppbppp/...|       0|            0|             0|                     0|           0|                       0|         16|         16|               8|               8|                1|                1|                 2|                 2|                 2|                 2|               2|               2|                       0|                       0|                   6|                   6|                   3|                   1|                   0|                   0|                   0|                   0|                  25|                   6|                   7|                   1|                   0|                   0|                   0|                   0|                   0|                   0|                   0|                   0|                   2|                   3|                   6|                   5|                   0|                   0|                   0|                   0|                   2|                   7|                   8|                  22|e4|e5|Nf3|Nc6|Bb5...|\n",
            "|86e0b7f5-7b94-4ae...|     16|           8|       Carlsen,M|     Na5|c6a5|         c6|       a5|    N|Black|r1bq1rk1/2ppbppp/...|       0|            0|             0|                     0|           0|                       0|         16|         16|               8|               8|                1|                1|                 2|                 2|                 2|                 2|               2|               2|                       0|                       0|                   6|                   6|                   3|                   1|                   0|                   0|                   0|                   0|                  25|                   6|                   7|                   1|                   0|                   0|                   0|                   0|                   0|                   0|                   0|                   0|                   3|                   2|                   6|                   5|                   0|                   0|                   0|                   0|                   5|                   4|                   8|                  22|e4|e5|Nf3|Nc6|Bb5...|\n",
            "|86e0b7f5-7b94-4ae...|     17|           9|Nepomniachtchi,I|    Nxe5|f3e5|         f3|       e5|    N|White|r1bq1rk1/2ppbppp/...|       0|            0|             0|                     0|           0|                       0|         16|         15|               8|               7|                1|                1|                 2|                 2|                 2|                 2|               2|               2|                       1|                       0|                   6|                   6|                   2|                   1|                   1|                   0|                   0|                   0|                  25|                   6|                   4|                   1|                   3|                   0|                   0|                   0|                   0|                   0|                   0|                   0|                   2|                   2|                   6|                   5|                   0|                   0|                   0|                   0|                   4|                   4|                   8|                  22|e4|e5|Nf3|Nc6|Bb5...|\n",
            "|86e0b7f5-7b94-4ae...|     18|           9|       Carlsen,M|    Nxb3|a5b3|         a5|       b3|    N|Black|r1bq1rk1/2ppbppp/...|       0|            0|             0|                     0|           0|                       0|         15|         15|               8|               7|                1|                1|                 1|                 2|                 2|                 2|               2|               2|                       1|                       3|                   6|                   6|                   1|                   1|                   1|                   0|                   0|                   0|                  25|                   6|                   1|                   1|                   3|                   0|                   0|                   0|                   0|                   0|                   1|                   0|                   1|                   2|                   6|                   5|                   0|                   0|                   3|                   0|                   1|                   4|                   8|                  22|e4|e5|Nf3|Nc6|Bb5...|\n",
            "|86e0b7f5-7b94-4ae...|     19|          10|Nepomniachtchi,I|    axb3|a2b3|         a2|       b3|    P|White|r1bq1rk1/2ppbppp/...|       0|            0|             0|                     0|           0|                       0|         15|         14|               8|               7|                1|                1|                 1|                 2|                 2|                 1|               2|               2|                       4|                       3|                   6|                   5|                   2|                   1|                   1|                   0|                   0|                   0|                  25|                   5|                   2|                   1|                   3|                   0|                   0|                   0|                   0|                   0|                   0|                   0|                   1|                   2|                   6|                   5|                   0|                   0|                   0|                   0|                   1|                   4|                   8|                  22|e4|e5|Nf3|Nc6|Bb5...|\n",
            "|86e0b7f5-7b94-4ae...|     20|          10|       Carlsen,M|     Bb7|c8b7|         c8|       b7|    B|Black|r2q1rk1/1bppbppp/...|       0|            0|             0|                     0|           0|                       0|         15|         14|               8|               7|                1|                1|                 1|                 2|                 2|                 1|               2|               2|                       4|                       3|                   6|                   5|                   2|                   1|                   1|                   0|                   0|                   0|                  25|                   5|                   2|                   1|                   3|                   0|                   0|                   0|                   0|                   0|                   0|                   0|                   1|                   2|                   7|                   4|                   0|                   0|                   0|                   0|                   1|                   4|                  11|                  19|e4|e5|Nf3|Nc6|Bb5...|\n",
            "+--------------------+-------+------------+----------------+--------+----+-----------+---------+-----+-----+--------------------+--------+-------------+--------------+----------------------+------------+------------------------+-----------+-----------+----------------+----------------+-----------------+-----------------+------------------+------------------+------------------+------------------+----------------+----------------+------------------------+------------------------+--------------------+--------------------+--------------------+--------------------+--------------------+--------------------+--------------------+--------------------+--------------------+--------------------+--------------------+--------------------+--------------------+--------------------+--------------------+--------------------+--------------------+--------------------+--------------------+--------------------+--------------------+--------------------+--------------------+--------------------+--------------------+--------------------+--------------------+--------------------+--------------------+--------------------+--------------------+--------------------+--------------------+\n",
            "only showing top 20 rows\n",
            "\n"
          ]
        }
      ]
    },
    {
      "cell_type": "code",
      "source": [
        "df.printSchema()"
      ],
      "metadata": {
        "colab": {
          "base_uri": "https://localhost:8080/"
        },
        "id": "fUkM_NwxKdti",
        "outputId": "5265af3e-12bd-42c6-e4fa-eab5c2b9e995"
      },
      "execution_count": 29,
      "outputs": [
        {
          "output_type": "stream",
          "name": "stdout",
          "text": [
            "root\n",
            " |-- game_id: string (nullable = true)\n",
            " |-- game_order: integer (nullable = true)\n",
            " |-- event: string (nullable = true)\n",
            " |-- site: string (nullable = true)\n",
            " |-- date_played: string (nullable = true)\n",
            " |-- round: double (nullable = true)\n",
            " |-- white: string (nullable = true)\n",
            " |-- black: string (nullable = true)\n",
            " |-- result: string (nullable = true)\n",
            " |-- white_elo: integer (nullable = true)\n",
            " |-- black_elo: integer (nullable = true)\n",
            " |-- white_title: string (nullable = true)\n",
            " |-- black_title: string (nullable = true)\n",
            " |-- winner: string (nullable = true)\n",
            " |-- winner_elo: integer (nullable = true)\n",
            " |-- loser: string (nullable = true)\n",
            " |-- loser_elo: integer (nullable = true)\n",
            " |-- winner_loser_elo_diff: integer (nullable = true)\n",
            " |-- eco: string (nullable = true)\n",
            " |-- date_created: string (nullable = true)\n",
            " |-- tournament_name: string (nullable = true)\n",
            "\n"
          ]
        }
      ]
    },
    {
      "cell_type": "code",
      "source": [
        "df2.printSchema()"
      ],
      "metadata": {
        "colab": {
          "base_uri": "https://localhost:8080/"
        },
        "id": "PqidAMOSKj6B",
        "outputId": "4556b46f-f463-4262-e849-c1d702fedaea"
      },
      "execution_count": 12,
      "outputs": [
        {
          "output_type": "stream",
          "name": "stdout",
          "text": [
            "root\n",
            " |-- game_id: string (nullable = true)\n",
            " |-- move_no: integer (nullable = true)\n",
            " |-- move_no_pair: integer (nullable = true)\n",
            " |-- player: string (nullable = true)\n",
            " |-- notation: string (nullable = true)\n",
            " |-- move: string (nullable = true)\n",
            " |-- from_square: string (nullable = true)\n",
            " |-- to_square: string (nullable = true)\n",
            " |-- piece: string (nullable = true)\n",
            " |-- color: string (nullable = true)\n",
            " |-- fen: string (nullable = true)\n",
            " |-- is_check: integer (nullable = true)\n",
            " |-- is_check_mate: integer (nullable = true)\n",
            " |-- is_fifty_moves: integer (nullable = true)\n",
            " |-- is_fivefold_repetition: integer (nullable = true)\n",
            " |-- is_game_over: integer (nullable = true)\n",
            " |-- is_insufficient_material: integer (nullable = true)\n",
            " |-- white_count: integer (nullable = true)\n",
            " |-- black_count: integer (nullable = true)\n",
            " |-- white_pawn_count: integer (nullable = true)\n",
            " |-- black_pawn_count: integer (nullable = true)\n",
            " |-- white_queen_count: integer (nullable = true)\n",
            " |-- black_queen_count: integer (nullable = true)\n",
            " |-- white_bishop_count: integer (nullable = true)\n",
            " |-- black_bishop_count: integer (nullable = true)\n",
            " |-- white_knight_count: integer (nullable = true)\n",
            " |-- black_knight_count: integer (nullable = true)\n",
            " |-- white_rook_count: integer (nullable = true)\n",
            " |-- black_rook_count: integer (nullable = true)\n",
            " |-- captured_score_for_white: integer (nullable = true)\n",
            " |-- captured_score_for_black: integer (nullable = true)\n",
            " |-- fen_row1_white_count: integer (nullable = true)\n",
            " |-- fen_row2_white_count: integer (nullable = true)\n",
            " |-- fen_row3_white_count: integer (nullable = true)\n",
            " |-- fen_row4_white_count: integer (nullable = true)\n",
            " |-- fen_row5_white_count: integer (nullable = true)\n",
            " |-- fen_row6_white_count: integer (nullable = true)\n",
            " |-- fen_row7_white_count: integer (nullable = true)\n",
            " |-- fen_row8_white_count: integer (nullable = true)\n",
            " |-- fen_row1_white_value: integer (nullable = true)\n",
            " |-- fen_row2_white_value: integer (nullable = true)\n",
            " |-- fen_row3_white_value: integer (nullable = true)\n",
            " |-- fen_row4_white_value: integer (nullable = true)\n",
            " |-- fen_row5_white_value: integer (nullable = true)\n",
            " |-- fen_row6_white_value: integer (nullable = true)\n",
            " |-- fen_row7_white_value: integer (nullable = true)\n",
            " |-- fen_row8_white_value: integer (nullable = true)\n",
            " |-- fen_row1_black_count: integer (nullable = true)\n",
            " |-- fen_row2_black_count: integer (nullable = true)\n",
            " |-- fen_row3_black_count: integer (nullable = true)\n",
            " |-- fen_row4_black_count: integer (nullable = true)\n",
            " |-- fen_row5_black_count: integer (nullable = true)\n",
            " |-- fen_row6_black_count: integer (nullable = true)\n",
            " |-- fen_row7_black_count: integer (nullable = true)\n",
            " |-- fen_row8_black_count: integer (nullable = true)\n",
            " |-- fen_row1_black_value: integer (nullable = true)\n",
            " |-- fen_row2_black_value: integer (nullable = true)\n",
            " |-- fen_row3_black_value: integer (nullable = true)\n",
            " |-- fen_row4_black_value: integer (nullable = true)\n",
            " |-- fen_row5_black_value: integer (nullable = true)\n",
            " |-- fen_row6_black_value: integer (nullable = true)\n",
            " |-- fen_row7_black_value: integer (nullable = true)\n",
            " |-- fen_row8_black_value: integer (nullable = true)\n",
            " |-- move_sequence: string (nullable = true)\n",
            "\n"
          ]
        }
      ]
    },
    {
      "cell_type": "code",
      "source": [
        "df1.printSchema()"
      ],
      "metadata": {
        "colab": {
          "base_uri": "https://localhost:8080/"
        },
        "id": "S3z9A0bfKnAJ",
        "outputId": "750ff683-d07b-4fdf-b7c2-e843cfa7a65f"
      },
      "execution_count": 13,
      "outputs": [
        {
          "output_type": "stream",
          "name": "stdout",
          "text": [
            "root\n",
            " |-- eco: string (nullable = true)\n",
            " |-- eco_name: string (nullable = true)\n",
            " |-- eco_example: string (nullable = true)\n",
            " |-- eco_type: string (nullable = true)\n",
            " |-- eco_group: string (nullable = true)\n",
            "\n"
          ]
        }
      ]
    },
    {
      "cell_type": "code",
      "source": [
        "from pyspark.sql.window import Window\n",
        "import pyspark.sql.functions as F"
      ],
      "metadata": {
        "id": "HHvggAFuKrIi"
      },
      "execution_count": 14,
      "outputs": []
    },
    {
      "cell_type": "code",
      "source": [
        "#1\n",
        "worldchamp = df.where((df.tournament_name.contains('WorldChamp')) & ~df.winner.contains('draw'))\n",
        "withtournamentname = worldchamp.select(['winner','tournament_name']).groupBy('tournament_name', 'winner').count()\n",
        "w1 = Window.partitionBy(\"tournament_name\").orderBy(F.col('count').desc())\n",
        "s1 = withtournamentname.withColumn('rank', F.row_number().over(w1)).where(F.col('rank') == 1)\n",
        "s1 = s1.orderBy(F.col('tournament_name')).drop(*['count','rank'])\n",
        "s1 = s1.select(\"winner\", \"tournament_name\")\n",
        "s1.show()"
      ],
      "metadata": {
        "colab": {
          "base_uri": "https://localhost:8080/"
        },
        "id": "-Vpauf8N5fxi",
        "outputId": "dfbbc65a-2133-4d7c-a700-28be64fb63be"
      },
      "execution_count": 34,
      "outputs": [
        {
          "output_type": "stream",
          "name": "stdout",
          "text": [
            "+--------------------+---------------+\n",
            "|              winner|tournament_name|\n",
            "+--------------------+---------------+\n",
            "|   Steinitz, William| WorldChamp1886|\n",
            "|   Steinitz, William| WorldChamp1889|\n",
            "|   Steinitz, William| WorldChamp1890|\n",
            "|   Steinitz, William| WorldChamp1892|\n",
            "|     Lasker, Emanuel| WorldChamp1894|\n",
            "|     Lasker, Emanuel| WorldChamp1896|\n",
            "|     Lasker, Emanuel| WorldChamp1907|\n",
            "|     Lasker, Emanuel| WorldChamp1908|\n",
            "|     Lasker, Emanuel| WorldChamp1909|\n",
            "|    Schlechter, Carl|WorldChamp1910a|\n",
            "|     Lasker, Emanuel|WorldChamp1910b|\n",
            "|Capablanca, Jose ...| WorldChamp1921|\n",
            "| Alekhine, Alexander| WorldChamp1927|\n",
            "| Alekhine, Alexander| WorldChamp1929|\n",
            "| Alekhine, Alexander| WorldChamp1934|\n",
            "|           Euwe, Max| WorldChamp1935|\n",
            "| Alekhine, Alexander| WorldChamp1937|\n",
            "|  Botvinnik, Mikhail| WorldChamp1948|\n",
            "|  Botvinnik, Mikhail| WorldChamp1951|\n",
            "|  Botvinnik, Mikhail| WorldChamp1954|\n",
            "+--------------------+---------------+\n",
            "only showing top 20 rows\n",
            "\n"
          ]
        }
      ]
    },
    {
      "cell_type": "code",
      "source": [
        "#2\n",
        "s2 = df.where(~df.winner.contains('draw')).select(\"tournament_name\", \"winner\")\n",
        "s2 = s2.groupBy(\"tournament_name\", \"winner\").count()\n",
        "w2 = Window.partitionBy(\"tournament_name\").orderBy(F.col('count').desc())\n",
        "s2 = s2.withColumn('rank', F.row_number().over(w2)).where(F.col('rank') == 1)\n",
        "s2 = s2.drop(*['rank', 'tournament_name', 'count'])\n",
        "s2 = s2.groupBy(\"winner\").count().orderBy(F.col('count').desc())\n",
        "s2 = s2.toDF(\"player_name\", \"number_of_wins\")\n",
        "s2.show()"
      ],
      "metadata": {
        "colab": {
          "base_uri": "https://localhost:8080/"
        },
        "id": "DRBrH83xp4kS",
        "outputId": "6104b329-b408-4e87-c329-7004d5f7931a"
      },
      "execution_count": 35,
      "outputs": [
        {
          "output_type": "stream",
          "name": "stdout",
          "text": [
            "+--------------------+--------------+\n",
            "|         player_name|number_of_wins|\n",
            "+--------------------+--------------+\n",
            "|     Lasker, Emanuel|             6|\n",
            "|      Kasparov, Gary|             6|\n",
            "|     Karpov, Anatoly|             5|\n",
            "|  Botvinnik, Mikhail|             5|\n",
            "| Alekhine, Alexander|             4|\n",
            "|   Steinitz, William|             4|\n",
            "|             Anand,V|             4|\n",
            "|     Carlsen, Magnus|             3|\n",
            "|           Kramnik,V|             3|\n",
            "| Petrosian, Tigran V|             2|\n",
            "|           Gelfand,B|             1|\n",
            "|        Ponomariov,R|             1|\n",
            "|  Anand, Viswanathan|             1|\n",
            "|           Topalov,V|             1|\n",
            "|      Kasimdzhanov,R|             1|\n",
            "|Khalifman, Alexander|             1|\n",
            "|    Smyslov, Vassily|             1|\n",
            "|    Spassky, Boris V|             1|\n",
            "|Fischer, Robert J...|             1|\n",
            "|Capablanca, Jose ...|             1|\n",
            "+--------------------+--------------+\n",
            "only showing top 20 rows\n",
            "\n"
          ]
        }
      ]
    },
    {
      "cell_type": "code",
      "source": [
        "#3\n",
        "s3 = df.where(df.tournament_name.contains('WorldChamp'))\n",
        "s3 = s3.groupBy(\"eco\").count().orderBy(F.col('count').desc())\n",
        "s3 = s3.head(1) + s3.tail(1)\n",
        "s3 = spark.createDataFrame(s3).withColumnRenamed(\"count\", \"occurence_no\")\n",
        "s3 = s3.join(df1, on='eco', how=\"inner\")\n",
        "s3 = s3.select(\"eco\", \"eco_name\", \"occurence_no\")\n",
        "s3.show()"
      ],
      "metadata": {
        "colab": {
          "base_uri": "https://localhost:8080/"
        },
        "id": "4DZCVGypr4-1",
        "outputId": "e1b90572-e652-484c-b8a0-d4baee2db0a4"
      },
      "execution_count": 36,
      "outputs": [
        {
          "output_type": "stream",
          "name": "stdout",
          "text": [
            "+---+------------------+------------+\n",
            "|eco|          eco_name|occurence_no|\n",
            "+---+------------------+------------+\n",
            "|C42|    Petrov Defense|          21|\n",
            "|A44|Old Benoni Defense|           1|\n",
            "+---+------------------+------------+\n",
            "\n"
          ]
        }
      ]
    },
    {
      "cell_type": "code",
      "source": [
        "#4\n",
        "s4 = df.where(~df.winner.contains('draw')).groupby('eco').count().orderBy(F.col('count').desc()).head(1)\n",
        "s4 = spark.createDataFrame(s4)\n",
        "s4 = s4.join(df1, on='eco', how=\"inner\").drop(*[\"count\", \"eco_example\", \"eco_type\", \"eco_group\"])\n",
        "s4.show()"
      ],
      "metadata": {
        "colab": {
          "base_uri": "https://localhost:8080/"
        },
        "id": "r5qG9LXssoPz",
        "outputId": "bc01d179-14de-4fbf-da0b-99d75a2d80ba"
      },
      "execution_count": 37,
      "outputs": [
        {
          "output_type": "stream",
          "name": "stdout",
          "text": [
            "+---+-----------------+\n",
            "|eco|         eco_name|\n",
            "+---+-----------------+\n",
            "|B90|Sicilian, Najdorf|\n",
            "+---+-----------------+\n",
            "\n"
          ]
        }
      ]
    },
    {
      "cell_type": "code",
      "source": [
        "#5\n",
        "w5 = Window.partitionBy('game_id').orderBy(F.col('move_no_pair').desc())\n",
        "s5 = df2.withColumn(\"rank\", F.row_number().over(w5)).filter(F.col('rank')==1).select('game_id', 'move_no_pair')\n",
        "s5 = s5.join(df, on='game_id', how='inner').select(\"game_id\",\"event\",\"tournament_name\",\"move_no_pair\")\n",
        "s5 = s5.orderBy(F.col('move_no_pair').desc())\n",
        "s5 = s5.filter( (s5.tournament_name.contains('WorldChamp')) )\n",
        "s5 = s5.head(1) + s5.tail(1)\n",
        "s5 = spark.createDataFrame(s5)\n",
        "s5.show()"
      ],
      "metadata": {
        "colab": {
          "base_uri": "https://localhost:8080/"
        },
        "id": "xOd66Ef2tGRL",
        "outputId": "4534260c-501d-4452-d423-e6deac994be3"
      },
      "execution_count": 38,
      "outputs": [
        {
          "output_type": "stream",
          "name": "stdout",
          "text": [
            "+--------------------+--------------------+---------------+------------+\n",
            "|             game_id|               event|tournament_name|move_no_pair|\n",
            "+--------------------+--------------------+---------------+------------+\n",
            "|58e83255-93bb-4d5...|            WCh 2021| WorldChamp2021|         136|\n",
            "|1846cede-0037-4f0...|World Championshi...| WorldChamp1972|           1|\n",
            "+--------------------+--------------------+---------------+------------+\n",
            "\n"
          ]
        }
      ]
    },
    {
      "cell_type": "code",
      "source": [
        "#6\n",
        "w5 = Window.partitionBy('game_id').orderBy(F.col('move_no_pair').desc())\n",
        "s6 = df2.withColumn(\"rank\", F.row_number().over(w5)).filter(F.col('rank')==1).select('game_id', 'move_no_pair')\n",
        "s6 = s6.join(df, on='game_id', how='inner').select(\"game_id\",\"event\",\"tournament_name\",\"move_no_pair\")\n",
        "s6 = s6.orderBy(F.col('move_no_pair').desc())\n",
        "s6 = s6.filter((df.winner.contains('draw')) )\n",
        "s6 = s6.head(1) + s6.tail(1)\n",
        "s6 = spark.createDataFrame(s6)\n",
        "s6.show()"
      ],
      "metadata": {
        "colab": {
          "base_uri": "https://localhost:8080/"
        },
        "id": "eWz-8ZgXuuKA",
        "outputId": "3bd543b2-bf95-46ee-fd15-7f58689a6a1b"
      },
      "execution_count": 39,
      "outputs": [
        {
          "output_type": "stream",
          "name": "stdout",
          "text": [
            "+--------------------+-------------+---------------+------------+\n",
            "|             game_id|        event|tournament_name|move_no_pair|\n",
            "+--------------------+-------------+---------------+------------+\n",
            "|88f34084-e4df-490...|  FIDE WCh KO|  FideChamp2002|         129|\n",
            "|a27c2b95-fb62-4b6...|FIDE-Wch k.o.|  FideChamp1998|           6|\n",
            "+--------------------+-------------+---------------+------------+\n",
            "\n"
          ]
        }
      ]
    },
    {
      "cell_type": "code",
      "source": [
        "#7\n",
        "A7white = df.filter(df.white_elo.isNotNull())\n",
        "A7white = A7white.groupBy(\"white\").max(\"white_elo\")\n",
        "A7white = A7white.withColumnRenamed(\"white\",\"player_name\")\n",
        "\n",
        "A7black = df.filter(df.white_elo.isNotNull())\n",
        "A7black = A7black.groupBy(\"black\").max(\"black_elo\")\n",
        "A7black = A7black.withColumnRenamed(\"black\",\"player_name\")\n",
        "\n",
        "s7 = A7white.join(A7black, on='player_name', how='inner')\n",
        "s7 = s7.withColumn(\"elo\",(F.col(\"max(white_elo)\")+F.col(\"max(black_elo)\"))/2)\n",
        "s7 = s7.drop( *[\"max(white_elo)\", \"max(black_elo)\"])\n",
        "s7 = s7.orderBy( F.col(\"elo\").desc())\n",
        "s7 = s7.head(1) + s7.tail(1)\n",
        "s7 = spark.createDataFrame(s7)\n",
        "s7.show()"
      ],
      "metadata": {
        "colab": {
          "base_uri": "https://localhost:8080/"
        },
        "id": "C_Npvp2XuzKy",
        "outputId": "83d6a693-a1b4-48dd-ecbf-0f88c0e35e7d"
      },
      "execution_count": 40,
      "outputs": [
        {
          "output_type": "stream",
          "name": "stdout",
          "text": [
            "+---------------+------+\n",
            "|    player_name|   elo|\n",
            "+---------------+------+\n",
            "|Carlsen, Magnus|2870.0|\n",
            "|      Abulhul,T|2076.0|\n",
            "+---------------+------+\n",
            "\n"
          ]
        }
      ]
    },
    {
      "cell_type": "code",
      "source": [
        "#8\n",
        "s8 = df.filter(~df['winner'].isin(['draw']))\n",
        "s8 = s8.groupBy(\"loser\").count()\n",
        "s8 = s8.withColumnRenamed(\"loser\",\"player_name\")\n",
        "s8 = s8.orderBy(F.col(\"count\").desc())\n",
        "winA8 = Window.orderBy(F.col(\"count\").desc())\n",
        "s8 = s8.withColumn(\"index\", F.row_number().over(winA8))\n",
        "s8 = s8.filter((s8['index']==3))\n",
        "s8 = s8.drop(*[\"count\",\"index\"])\n",
        "s8.show()"
      ],
      "metadata": {
        "colab": {
          "base_uri": "https://localhost:8080/"
        },
        "id": "iaapl_iOQ-Y9",
        "outputId": "d0700684-36de-41ee-f76d-a4c441f580cb"
      },
      "execution_count": 89,
      "outputs": [
        {
          "output_type": "stream",
          "name": "stdout",
          "text": [
            "+---------------+\n",
            "|    player_name|\n",
            "+---------------+\n",
            "|Karpov, Anatoly|\n",
            "+---------------+\n",
            "\n"
          ]
        }
      ]
    },
    {
      "cell_type": "code",
      "source": [
        "#9\n",
        "s9 = df.where( df.winner_loser_elo_diff < 0 )\n",
        "s9.createOrReplaceTempView(\"s9\")\n",
        "spark.sql(f'''select winner as Player, count(winner) as Win_count from Q9 group by winner order by count(winner) desc ''').show()"
      ],
      "metadata": {
        "colab": {
          "base_uri": "https://localhost:8080/"
        },
        "id": "Ou3liUeC2WV_",
        "outputId": "1c47619d-5d23-476d-e507-97633050d8a6"
      },
      "execution_count": 97,
      "outputs": [
        {
          "output_type": "stream",
          "name": "stdout",
          "text": [
            "+--------------------+---------+\n",
            "|              Player|Win_count|\n",
            "+--------------------+---------+\n",
            "|     Karpov, Anatoly|       20|\n",
            "|      Kasimdzhanov,R|       11|\n",
            "|           Macieja,B|        9|\n",
            "|  Kortschnoj, Viktor|        8|\n",
            "|           Kramnik,V|        8|\n",
            "|          Grischuk,A|        7|\n",
            "|        Ponomariov,R|        7|\n",
            "|Khalifman, Alexander|        6|\n",
            "|      Kasparov, Gary|        5|\n",
            "|           Ehlvest,J|        5|\n",
            "|   Akopian, Vladimir|        5|\n",
            "|      Short, Nigel D|        5|\n",
            "|         Dominguez,L|        5|\n",
            "|           Sulskis,S|        5|\n",
            "|           Gelfand,B|        4|\n",
            "| Tkachiev, Vladislav|        4|\n",
            "|          Nakamura,H|        4|\n",
            "|Nisipeanu, Liviu ...|        4|\n",
            "|            Volkov,S|        4|\n",
            "|         Filippov,Va|        4|\n",
            "+--------------------+---------+\n",
            "only showing top 20 rows\n",
            "\n"
          ]
        }
      ]
    },
    {
      "cell_type": "code",
      "source": [
        "#10\n",
        "from pyspark.sql.functions import col\n"
      ],
      "metadata": {
        "id": "OCMbus1M2XIa"
      },
      "execution_count": 52,
      "outputs": []
    },
    {
      "cell_type": "code",
      "source": [
        "s10=df2.select(col(\"game_id\"),col(\"player\"),col(\"move_sequence\"),col(\"move_no_pair\")).show()\n",
        "print(s10)"
      ],
      "metadata": {
        "colab": {
          "base_uri": "https://localhost:8080/"
        },
        "id": "FLvURXWT4Ep8",
        "outputId": "71583e88-ac75-4290-815b-663376cd39e2"
      },
      "execution_count": 99,
      "outputs": [
        {
          "output_type": "stream",
          "name": "stdout",
          "text": [
            "+--------------------+----------------+--------------------+------------+\n",
            "|             game_id|          player|       move_sequence|move_no_pair|\n",
            "+--------------------+----------------+--------------------+------------+\n",
            "|86e0b7f5-7b94-4ae...|Nepomniachtchi,I|                  e4|           1|\n",
            "|86e0b7f5-7b94-4ae...|       Carlsen,M|               e4|e5|           1|\n",
            "|86e0b7f5-7b94-4ae...|Nepomniachtchi,I|           e4|e5|Nf3|           2|\n",
            "|86e0b7f5-7b94-4ae...|       Carlsen,M|       e4|e5|Nf3|Nc6|           2|\n",
            "|86e0b7f5-7b94-4ae...|Nepomniachtchi,I|   e4|e5|Nf3|Nc6|Bb5|           3|\n",
            "|86e0b7f5-7b94-4ae...|       Carlsen,M|e4|e5|Nf3|Nc6|Bb5|a6|           3|\n",
            "|86e0b7f5-7b94-4ae...|Nepomniachtchi,I|e4|e5|Nf3|Nc6|Bb5...|           4|\n",
            "|86e0b7f5-7b94-4ae...|       Carlsen,M|e4|e5|Nf3|Nc6|Bb5...|           4|\n",
            "|86e0b7f5-7b94-4ae...|Nepomniachtchi,I|e4|e5|Nf3|Nc6|Bb5...|           5|\n",
            "|86e0b7f5-7b94-4ae...|       Carlsen,M|e4|e5|Nf3|Nc6|Bb5...|           5|\n",
            "|86e0b7f5-7b94-4ae...|Nepomniachtchi,I|e4|e5|Nf3|Nc6|Bb5...|           6|\n",
            "|86e0b7f5-7b94-4ae...|       Carlsen,M|e4|e5|Nf3|Nc6|Bb5...|           6|\n",
            "|86e0b7f5-7b94-4ae...|Nepomniachtchi,I|e4|e5|Nf3|Nc6|Bb5...|           7|\n",
            "|86e0b7f5-7b94-4ae...|       Carlsen,M|e4|e5|Nf3|Nc6|Bb5...|           7|\n",
            "|86e0b7f5-7b94-4ae...|Nepomniachtchi,I|e4|e5|Nf3|Nc6|Bb5...|           8|\n",
            "|86e0b7f5-7b94-4ae...|       Carlsen,M|e4|e5|Nf3|Nc6|Bb5...|           8|\n",
            "|86e0b7f5-7b94-4ae...|Nepomniachtchi,I|e4|e5|Nf3|Nc6|Bb5...|           9|\n",
            "|86e0b7f5-7b94-4ae...|       Carlsen,M|e4|e5|Nf3|Nc6|Bb5...|           9|\n",
            "|86e0b7f5-7b94-4ae...|Nepomniachtchi,I|e4|e5|Nf3|Nc6|Bb5...|          10|\n",
            "|86e0b7f5-7b94-4ae...|       Carlsen,M|e4|e5|Nf3|Nc6|Bb5...|          10|\n",
            "+--------------------+----------------+--------------------+------------+\n",
            "only showing top 20 rows\n",
            "\n",
            "None\n"
          ]
        }
      ]
    },
    {
      "cell_type": "code",
      "source": [
        "#11\n",
        "s11 = df.where(~df['winner'].isin(['draw']))\n",
        "s11 = s11.join(df2, on=\"game_id\", how=\"inner\")\n",
        "wins11 = Window.partitionBy(\"game_id\").orderBy(F.col(\"captured_score_for_white\").desc())\n",
        "\n",
        "s11.show()"
      ],
      "metadata": {
        "colab": {
          "base_uri": "https://localhost:8080/"
        },
        "id": "OS3L9w2e2X3D",
        "outputId": "413b420a-2822-46fb-ec59-02acc66b347c"
      },
      "execution_count": 91,
      "outputs": [
        {
          "output_type": "stream",
          "name": "stdout",
          "text": [
            "+--------------------+----------+--------+---------+-----------+-----+---------+----------------+------+---------+---------+-----------+-----------+---------+----------+----------------+---------+---------------------+---+--------------------+---------------+-------+------------+----------------+--------+----+-----------+---------+-----+-----+--------------------+--------+-------------+--------------+----------------------+------------+------------------------+-----------+-----------+----------------+----------------+-----------------+-----------------+------------------+------------------+------------------+------------------+----------------+----------------+------------------------+------------------------+--------------------+--------------------+--------------------+--------------------+--------------------+--------------------+--------------------+--------------------+--------------------+--------------------+--------------------+--------------------+--------------------+--------------------+--------------------+--------------------+--------------------+--------------------+--------------------+--------------------+--------------------+--------------------+--------------------+--------------------+--------------------+--------------------+--------------------+--------------------+--------------------+--------------------+--------------------+--------------------+--------------------+\n",
            "|             game_id|game_order|   event|     site|date_played|round|    white|           black|result|white_elo|black_elo|white_title|black_title|   winner|winner_elo|           loser|loser_elo|winner_loser_elo_diff|eco|        date_created|tournament_name|move_no|move_no_pair|          player|notation|move|from_square|to_square|piece|color|                 fen|is_check|is_check_mate|is_fifty_moves|is_fivefold_repetition|is_game_over|is_insufficient_material|white_count|black_count|white_pawn_count|black_pawn_count|white_queen_count|black_queen_count|white_bishop_count|black_bishop_count|white_knight_count|black_knight_count|white_rook_count|black_rook_count|captured_score_for_white|captured_score_for_black|fen_row1_white_count|fen_row2_white_count|fen_row3_white_count|fen_row4_white_count|fen_row5_white_count|fen_row6_white_count|fen_row7_white_count|fen_row8_white_count|fen_row1_white_value|fen_row2_white_value|fen_row3_white_value|fen_row4_white_value|fen_row5_white_value|fen_row6_white_value|fen_row7_white_value|fen_row8_white_value|fen_row1_black_count|fen_row2_black_count|fen_row3_black_count|fen_row4_black_count|fen_row5_black_count|fen_row6_black_count|fen_row7_black_count|fen_row8_black_count|fen_row1_black_value|fen_row2_black_value|fen_row3_black_value|fen_row4_black_value|fen_row5_black_value|fen_row6_black_value|fen_row7_black_value|fen_row8_black_value|       move_sequence|\n",
            "+--------------------+----------+--------+---------+-----------+-----+---------+----------------+------+---------+---------+-----------+-----------+---------+----------+----------------+---------+---------------------+---+--------------------+---------------+-------+------------+----------------+--------+----+-----------+---------+-----+-----+--------------------+--------+-------------+--------------+----------------------+------------+------------------------+-----------+-----------+----------------+----------------+-----------------+-----------------+------------------+------------------+------------------+------------------+----------------+----------------+------------------------+------------------------+--------------------+--------------------+--------------------+--------------------+--------------------+--------------------+--------------------+--------------------+--------------------+--------------------+--------------------+--------------------+--------------------+--------------------+--------------------+--------------------+--------------------+--------------------+--------------------+--------------------+--------------------+--------------------+--------------------+--------------------+--------------------+--------------------+--------------------+--------------------+--------------------+--------------------+--------------------+--------------------+--------------------+\n",
            "|58e83255-93bb-4d5...|         6|WCh 2021|Dubai UAE| 2021.12.03|  6.0|Carlsen,M|Nepomniachtchi,I|   1-0|     2855|     2782|       null|       null|Carlsen,M|      2855|Nepomniachtchi,I|     2782|                   73|D02|2022-07-22T22:33:...| WorldChamp2021|      1|           1|       Carlsen,M|      d4|d2d4|         d2|       d4|    P|White|rnbqkbnr/pppppppp...|       0|            0|             0|                     0|           0|                       0|         16|         16|               8|               8|                1|                1|                 2|                 2|                 2|                 2|               2|               2|                       0|                       0|                   8|                   7|                   0|                   1|                   0|                   0|                   0|                   0|                  31|                   7|                   0|                   1|                   0|                   0|                   0|                   0|                   0|                   0|                   0|                   0|                   0|                   0|                   8|                   8|                   0|                   0|                   0|                   0|                   0|                   0|                   8|                  31|                  d4|\n",
            "|58e83255-93bb-4d5...|         6|WCh 2021|Dubai UAE| 2021.12.03|  6.0|Carlsen,M|Nepomniachtchi,I|   1-0|     2855|     2782|       null|       null|Carlsen,M|      2855|Nepomniachtchi,I|     2782|                   73|D02|2022-07-22T22:33:...| WorldChamp2021|      2|           1|Nepomniachtchi,I|     Nf6|g8f6|         g8|       f6|    N|Black|rnbqkb1r/pppppppp...|       0|            0|             0|                     0|           0|                       0|         16|         16|               8|               8|                1|                1|                 2|                 2|                 2|                 2|               2|               2|                       0|                       0|                   8|                   7|                   0|                   1|                   0|                   0|                   0|                   0|                  31|                   7|                   0|                   1|                   0|                   0|                   0|                   0|                   0|                   0|                   0|                   0|                   0|                   1|                   8|                   7|                   0|                   0|                   0|                   0|                   0|                   3|                   8|                  28|              d4|Nf6|\n",
            "|58e83255-93bb-4d5...|         6|WCh 2021|Dubai UAE| 2021.12.03|  6.0|Carlsen,M|Nepomniachtchi,I|   1-0|     2855|     2782|       null|       null|Carlsen,M|      2855|Nepomniachtchi,I|     2782|                   73|D02|2022-07-22T22:33:...| WorldChamp2021|      3|           2|       Carlsen,M|     Nf3|g1f3|         g1|       f3|    N|White|rnbqkb1r/pppppppp...|       0|            0|             0|                     0|           0|                       0|         16|         16|               8|               8|                1|                1|                 2|                 2|                 2|                 2|               2|               2|                       0|                       0|                   7|                   7|                   1|                   1|                   0|                   0|                   0|                   0|                  28|                   7|                   3|                   1|                   0|                   0|                   0|                   0|                   0|                   0|                   0|                   0|                   0|                   1|                   8|                   7|                   0|                   0|                   0|                   0|                   0|                   3|                   8|                  28|          d4|Nf6|Nf3|\n",
            "|58e83255-93bb-4d5...|         6|WCh 2021|Dubai UAE| 2021.12.03|  6.0|Carlsen,M|Nepomniachtchi,I|   1-0|     2855|     2782|       null|       null|Carlsen,M|      2855|Nepomniachtchi,I|     2782|                   73|D02|2022-07-22T22:33:...| WorldChamp2021|      4|           2|Nepomniachtchi,I|      d5|d7d5|         d7|       d5|    P|Black|rnbqkb1r/ppp1pppp...|       0|            0|             0|                     0|           0|                       0|         16|         16|               8|               8|                1|                1|                 2|                 2|                 2|                 2|               2|               2|                       0|                       0|                   7|                   7|                   1|                   1|                   0|                   0|                   0|                   0|                  28|                   7|                   3|                   1|                   0|                   0|                   0|                   0|                   0|                   0|                   0|                   0|                   1|                   1|                   7|                   7|                   0|                   0|                   0|                   0|                   1|                   3|                   7|                  28|       d4|Nf6|Nf3|d5|\n",
            "|58e83255-93bb-4d5...|         6|WCh 2021|Dubai UAE| 2021.12.03|  6.0|Carlsen,M|Nepomniachtchi,I|   1-0|     2855|     2782|       null|       null|Carlsen,M|      2855|Nepomniachtchi,I|     2782|                   73|D02|2022-07-22T22:33:...| WorldChamp2021|      5|           3|       Carlsen,M|      g3|g2g3|         g2|       g3|    P|White|rnbqkb1r/ppp1pppp...|       0|            0|             0|                     0|           0|                       0|         16|         16|               8|               8|                1|                1|                 2|                 2|                 2|                 2|               2|               2|                       0|                       0|                   7|                   6|                   2|                   1|                   0|                   0|                   0|                   0|                  28|                   6|                   4|                   1|                   0|                   0|                   0|                   0|                   0|                   0|                   0|                   0|                   1|                   1|                   7|                   7|                   0|                   0|                   0|                   0|                   1|                   3|                   7|                  28|    d4|Nf6|Nf3|d5|g3|\n",
            "|58e83255-93bb-4d5...|         6|WCh 2021|Dubai UAE| 2021.12.03|  6.0|Carlsen,M|Nepomniachtchi,I|   1-0|     2855|     2782|       null|       null|Carlsen,M|      2855|Nepomniachtchi,I|     2782|                   73|D02|2022-07-22T22:33:...| WorldChamp2021|      6|           3|Nepomniachtchi,I|      e6|e7e6|         e7|       e6|    P|Black|rnbqkb1r/ppp2ppp/...|       0|            0|             0|                     0|           0|                       0|         16|         16|               8|               8|                1|                1|                 2|                 2|                 2|                 2|               2|               2|                       0|                       0|                   7|                   6|                   2|                   1|                   0|                   0|                   0|                   0|                  28|                   6|                   4|                   1|                   0|                   0|                   0|                   0|                   0|                   0|                   0|                   0|                   1|                   2|                   6|                   7|                   0|                   0|                   0|                   0|                   1|                   4|                   6|                  28| d4|Nf6|Nf3|d5|g3|e6|\n",
            "|58e83255-93bb-4d5...|         6|WCh 2021|Dubai UAE| 2021.12.03|  6.0|Carlsen,M|Nepomniachtchi,I|   1-0|     2855|     2782|       null|       null|Carlsen,M|      2855|Nepomniachtchi,I|     2782|                   73|D02|2022-07-22T22:33:...| WorldChamp2021|      7|           4|       Carlsen,M|     Bg2|f1g2|         f1|       g2|    B|White|rnbqkb1r/ppp2ppp/...|       0|            0|             0|                     0|           0|                       0|         16|         16|               8|               8|                1|                1|                 2|                 2|                 2|                 2|               2|               2|                       0|                       0|                   6|                   7|                   2|                   1|                   0|                   0|                   0|                   0|                  25|                   9|                   4|                   1|                   0|                   0|                   0|                   0|                   0|                   0|                   0|                   0|                   1|                   2|                   6|                   7|                   0|                   0|                   0|                   0|                   1|                   4|                   6|                  28|d4|Nf6|Nf3|d5|g3|...|\n",
            "|58e83255-93bb-4d5...|         6|WCh 2021|Dubai UAE| 2021.12.03|  6.0|Carlsen,M|Nepomniachtchi,I|   1-0|     2855|     2782|       null|       null|Carlsen,M|      2855|Nepomniachtchi,I|     2782|                   73|D02|2022-07-22T22:33:...| WorldChamp2021|      8|           4|Nepomniachtchi,I|     Be7|f8e7|         f8|       e7|    B|Black|rnbqk2r/ppp1bppp/...|       0|            0|             0|                     0|           0|                       0|         16|         16|               8|               8|                1|                1|                 2|                 2|                 2|                 2|               2|               2|                       0|                       0|                   6|                   7|                   2|                   1|                   0|                   0|                   0|                   0|                  25|                   9|                   4|                   1|                   0|                   0|                   0|                   0|                   0|                   0|                   0|                   0|                   1|                   2|                   7|                   6|                   0|                   0|                   0|                   0|                   1|                   4|                   9|                  25|d4|Nf6|Nf3|d5|g3|...|\n",
            "|58e83255-93bb-4d5...|         6|WCh 2021|Dubai UAE| 2021.12.03|  6.0|Carlsen,M|Nepomniachtchi,I|   1-0|     2855|     2782|       null|       null|Carlsen,M|      2855|Nepomniachtchi,I|     2782|                   73|D02|2022-07-22T22:33:...| WorldChamp2021|      9|           5|       Carlsen,M|     O-O|e1g1|         e1|       g1|    K|White|rnbqk2r/ppp1bppp/...|       0|            0|             0|                     0|           0|                       0|         16|         16|               8|               8|                1|                1|                 2|                 2|                 2|                 2|               2|               2|                       0|                       0|                   6|                   7|                   2|                   1|                   0|                   0|                   0|                   0|                  25|                   9|                   4|                   1|                   0|                   0|                   0|                   0|                   0|                   0|                   0|                   0|                   1|                   2|                   7|                   6|                   0|                   0|                   0|                   0|                   1|                   4|                   9|                  25|d4|Nf6|Nf3|d5|g3|...|\n",
            "|58e83255-93bb-4d5...|         6|WCh 2021|Dubai UAE| 2021.12.03|  6.0|Carlsen,M|Nepomniachtchi,I|   1-0|     2855|     2782|       null|       null|Carlsen,M|      2855|Nepomniachtchi,I|     2782|                   73|D02|2022-07-22T22:33:...| WorldChamp2021|     10|           5|Nepomniachtchi,I|     O-O|e8g8|         e8|       g8|    K|Black|rnbq1rk1/ppp1bppp...|       0|            0|             0|                     0|           0|                       0|         16|         16|               8|               8|                1|                1|                 2|                 2|                 2|                 2|               2|               2|                       0|                       0|                   6|                   7|                   2|                   1|                   0|                   0|                   0|                   0|                  25|                   9|                   4|                   1|                   0|                   0|                   0|                   0|                   0|                   0|                   0|                   0|                   1|                   2|                   7|                   6|                   0|                   0|                   0|                   0|                   1|                   4|                   9|                  25|d4|Nf6|Nf3|d5|g3|...|\n",
            "|58e83255-93bb-4d5...|         6|WCh 2021|Dubai UAE| 2021.12.03|  6.0|Carlsen,M|Nepomniachtchi,I|   1-0|     2855|     2782|       null|       null|Carlsen,M|      2855|Nepomniachtchi,I|     2782|                   73|D02|2022-07-22T22:33:...| WorldChamp2021|     11|           6|       Carlsen,M|      b3|b2b3|         b2|       b3|    P|White|rnbq1rk1/ppp1bppp...|       0|            0|             0|                     0|           0|                       0|         16|         16|               8|               8|                1|                1|                 2|                 2|                 2|                 2|               2|               2|                       0|                       0|                   6|                   6|                   3|                   1|                   0|                   0|                   0|                   0|                  25|                   8|                   5|                   1|                   0|                   0|                   0|                   0|                   0|                   0|                   0|                   0|                   1|                   2|                   7|                   6|                   0|                   0|                   0|                   0|                   1|                   4|                   9|                  25|d4|Nf6|Nf3|d5|g3|...|\n",
            "|58e83255-93bb-4d5...|         6|WCh 2021|Dubai UAE| 2021.12.03|  6.0|Carlsen,M|Nepomniachtchi,I|   1-0|     2855|     2782|       null|       null|Carlsen,M|      2855|Nepomniachtchi,I|     2782|                   73|D02|2022-07-22T22:33:...| WorldChamp2021|     12|           6|Nepomniachtchi,I|      c5|c7c5|         c7|       c5|    P|Black|rnbq1rk1/pp2bppp/...|       0|            0|             0|                     0|           0|                       0|         16|         16|               8|               8|                1|                1|                 2|                 2|                 2|                 2|               2|               2|                       0|                       0|                   6|                   6|                   3|                   1|                   0|                   0|                   0|                   0|                  25|                   8|                   5|                   1|                   0|                   0|                   0|                   0|                   0|                   0|                   0|                   0|                   2|                   2|                   6|                   6|                   0|                   0|                   0|                   0|                   2|                   4|                   8|                  25|d4|Nf6|Nf3|d5|g3|...|\n",
            "|58e83255-93bb-4d5...|         6|WCh 2021|Dubai UAE| 2021.12.03|  6.0|Carlsen,M|Nepomniachtchi,I|   1-0|     2855|     2782|       null|       null|Carlsen,M|      2855|Nepomniachtchi,I|     2782|                   73|D02|2022-07-22T22:33:...| WorldChamp2021|     13|           7|       Carlsen,M|    dxc5|d4c5|         d4|       c5|    P|White|rnbq1rk1/pp2bppp/...|       0|            0|             0|                     0|           0|                       0|         16|         15|               8|               7|                1|                1|                 2|                 2|                 2|                 2|               2|               2|                       1|                       0|                   6|                   6|                   3|                   0|                   1|                   0|                   0|                   0|                  25|                   8|                   5|                   0|                   1|                   0|                   0|                   0|                   0|                   0|                   0|                   0|                   1|                   2|                   6|                   6|                   0|                   0|                   0|                   0|                   1|                   4|                   8|                  25|d4|Nf6|Nf3|d5|g3|...|\n",
            "|58e83255-93bb-4d5...|         6|WCh 2021|Dubai UAE| 2021.12.03|  6.0|Carlsen,M|Nepomniachtchi,I|   1-0|     2855|     2782|       null|       null|Carlsen,M|      2855|Nepomniachtchi,I|     2782|                   73|D02|2022-07-22T22:33:...| WorldChamp2021|     14|           7|Nepomniachtchi,I|    Bxc5|e7c5|         e7|       c5|    B|Black|rnbq1rk1/pp3ppp/4...|       0|            0|             0|                     0|           0|                       0|         15|         15|               7|               7|                1|                1|                 2|                 2|                 2|                 2|               2|               2|                       1|                       1|                   6|                   6|                   3|                   0|                   0|                   0|                   0|                   0|                  25|                   8|                   5|                   0|                   0|                   0|                   0|                   0|                   0|                   0|                   0|                   0|                   2|                   2|                   5|                   6|                   0|                   0|                   0|                   0|                   4|                   4|                   5|                  25|d4|Nf6|Nf3|d5|g3|...|\n",
            "|58e83255-93bb-4d5...|         6|WCh 2021|Dubai UAE| 2021.12.03|  6.0|Carlsen,M|Nepomniachtchi,I|   1-0|     2855|     2782|       null|       null|Carlsen,M|      2855|Nepomniachtchi,I|     2782|                   73|D02|2022-07-22T22:33:...| WorldChamp2021|     15|           8|       Carlsen,M|      c4|c2c4|         c2|       c4|    P|White|rnbq1rk1/pp3ppp/4...|       0|            0|             0|                     0|           0|                       0|         15|         15|               7|               7|                1|                1|                 2|                 2|                 2|                 2|               2|               2|                       1|                       1|                   6|                   5|                   3|                   1|                   0|                   0|                   0|                   0|                  25|                   7|                   5|                   1|                   0|                   0|                   0|                   0|                   0|                   0|                   0|                   0|                   2|                   2|                   5|                   6|                   0|                   0|                   0|                   0|                   4|                   4|                   5|                  25|d4|Nf6|Nf3|d5|g3|...|\n",
            "|58e83255-93bb-4d5...|         6|WCh 2021|Dubai UAE| 2021.12.03|  6.0|Carlsen,M|Nepomniachtchi,I|   1-0|     2855|     2782|       null|       null|Carlsen,M|      2855|Nepomniachtchi,I|     2782|                   73|D02|2022-07-22T22:33:...| WorldChamp2021|     16|           8|Nepomniachtchi,I|    dxc4|d5c4|         d5|       c4|    P|Black|rnbq1rk1/pp3ppp/4...|       0|            0|             0|                     0|           0|                       0|         14|         15|               6|               7|                1|                1|                 2|                 2|                 2|                 2|               2|               2|                       1|                       2|                   6|                   5|                   3|                   0|                   0|                   0|                   0|                   0|                  25|                   7|                   5|                   0|                   0|                   0|                   0|                   0|                   0|                   0|                   0|                   1|                   1|                   2|                   5|                   6|                   0|                   0|                   0|                   1|                   3|                   4|                   5|                  25|d4|Nf6|Nf3|d5|g3|...|\n",
            "|58e83255-93bb-4d5...|         6|WCh 2021|Dubai UAE| 2021.12.03|  6.0|Carlsen,M|Nepomniachtchi,I|   1-0|     2855|     2782|       null|       null|Carlsen,M|      2855|Nepomniachtchi,I|     2782|                   73|D02|2022-07-22T22:33:...| WorldChamp2021|     17|           9|       Carlsen,M|     Qc2|d1c2|         d1|       c2|    Q|White|rnbq1rk1/pp3ppp/4...|       0|            0|             0|                     0|           0|                       0|         14|         15|               6|               7|                1|                1|                 2|                 2|                 2|                 2|               2|               2|                       1|                       2|                   5|                   6|                   3|                   0|                   0|                   0|                   0|                   0|                  16|                  16|                   5|                   0|                   0|                   0|                   0|                   0|                   0|                   0|                   0|                   1|                   1|                   2|                   5|                   6|                   0|                   0|                   0|                   1|                   3|                   4|                   5|                  25|d4|Nf6|Nf3|d5|g3|...|\n",
            "|58e83255-93bb-4d5...|         6|WCh 2021|Dubai UAE| 2021.12.03|  6.0|Carlsen,M|Nepomniachtchi,I|   1-0|     2855|     2782|       null|       null|Carlsen,M|      2855|Nepomniachtchi,I|     2782|                   73|D02|2022-07-22T22:33:...| WorldChamp2021|     18|           9|Nepomniachtchi,I|     Qe7|d8e7|         d8|       e7|    Q|Black|rnb2rk1/pp2qppp/4...|       0|            0|             0|                     0|           0|                       0|         14|         15|               6|               7|                1|                1|                 2|                 2|                 2|                 2|               2|               2|                       1|                       2|                   5|                   6|                   3|                   0|                   0|                   0|                   0|                   0|                  16|                  16|                   5|                   0|                   0|                   0|                   0|                   0|                   0|                   0|                   0|                   1|                   1|                   2|                   6|                   5|                   0|                   0|                   0|                   1|                   3|                   4|                  14|                  16|d4|Nf6|Nf3|d5|g3|...|\n",
            "|58e83255-93bb-4d5...|         6|WCh 2021|Dubai UAE| 2021.12.03|  6.0|Carlsen,M|Nepomniachtchi,I|   1-0|     2855|     2782|       null|       null|Carlsen,M|      2855|Nepomniachtchi,I|     2782|                   73|D02|2022-07-22T22:33:...| WorldChamp2021|     19|          10|       Carlsen,M|    Nbd2|b1d2|         b1|       d2|    N|White|rnb2rk1/pp2qppp/4...|       0|            0|             0|                     0|           0|                       0|         14|         15|               6|               7|                1|                1|                 2|                 2|                 2|                 2|               2|               2|                       1|                       2|                   4|                   7|                   3|                   0|                   0|                   0|                   0|                   0|                  13|                  19|                   5|                   0|                   0|                   0|                   0|                   0|                   0|                   0|                   0|                   1|                   1|                   2|                   6|                   5|                   0|                   0|                   0|                   1|                   3|                   4|                  14|                  16|d4|Nf6|Nf3|d5|g3|...|\n",
            "|58e83255-93bb-4d5...|         6|WCh 2021|Dubai UAE| 2021.12.03|  6.0|Carlsen,M|Nepomniachtchi,I|   1-0|     2855|     2782|       null|       null|Carlsen,M|      2855|Nepomniachtchi,I|     2782|                   73|D02|2022-07-22T22:33:...| WorldChamp2021|     20|          10|Nepomniachtchi,I|     Nc6|b8c6|         b8|       c6|    N|Black|r1b2rk1/pp2qppp/2...|       0|            0|             0|                     0|           0|                       0|         14|         15|               6|               7|                1|                1|                 2|                 2|                 2|                 2|               2|               2|                       1|                       2|                   4|                   7|                   3|                   0|                   0|                   0|                   0|                   0|                  13|                  19|                   5|                   0|                   0|                   0|                   0|                   0|                   0|                   0|                   0|                   1|                   1|                   3|                   6|                   4|                   0|                   0|                   0|                   1|                   3|                   7|                  14|                  13|d4|Nf6|Nf3|d5|g3|...|\n",
            "+--------------------+----------+--------+---------+-----------+-----+---------+----------------+------+---------+---------+-----------+-----------+---------+----------+----------------+---------+---------------------+---+--------------------+---------------+-------+------------+----------------+--------+----+-----------+---------+-----+-----+--------------------+--------+-------------+--------------+----------------------+------------+------------------------+-----------+-----------+----------------+----------------+-----------------+-----------------+------------------+------------------+------------------+------------------+----------------+----------------+------------------------+------------------------+--------------------+--------------------+--------------------+--------------------+--------------------+--------------------+--------------------+--------------------+--------------------+--------------------+--------------------+--------------------+--------------------+--------------------+--------------------+--------------------+--------------------+--------------------+--------------------+--------------------+--------------------+--------------------+--------------------+--------------------+--------------------+--------------------+--------------------+--------------------+--------------------+--------------------+--------------------+--------------------+--------------------+\n",
            "only showing top 20 rows\n",
            "\n"
          ]
        }
      ]
    },
    {
      "cell_type": "code",
      "source": [
        "#14\n",
        "s14 = df2.filter((df2.is_check_mate == 1) & df2.piece.contains('P'))\n",
        "s14 = s14.select('player')\n",
        "s14 = s14.withColumnRenamed(\"player\", \"player_name\")\n",
        "s14.show()"
      ],
      "metadata": {
        "colab": {
          "base_uri": "https://localhost:8080/"
        },
        "id": "-Qeu3SY72Z1L",
        "outputId": "c4bb40ad-fde9-4722-818e-069875c105e8"
      },
      "execution_count": 95,
      "outputs": [
        {
          "output_type": "stream",
          "name": "stdout",
          "text": [
            "+--------------+\n",
            "|   player_name|\n",
            "+--------------+\n",
            "|Andersson, Ulf|\n",
            "+--------------+\n",
            "\n"
          ]
        }
      ]
    },
    {
      "cell_type": "code",
      "source": [
        "import os\n",
        "import pandas as pd\n",
        "def sheet(dfs):\n",
        "  SAVE_PATH = \"drive/MyDrive/DE_SOLUTION_Swasthika_Venkataraman/results/\"\n",
        "  os.makedirs(SAVE_PATH, exist_ok=True)\n",
        "  i = 1\n",
        "  for df in dfs:\n",
        "    filename = 'sheet' + str(i) + '.csv'\n",
        "    pandasdf = df.toPandas()\n",
        "    csv = pandasdf.to_csv(SAVE_PATH + filename)\n",
        "    print(\"Saved \"+filename)\n",
        "    i += 1\n",
        "  return"
      ],
      "metadata": {
        "id": "d8yOVKVh2ba7"
      },
      "execution_count": null,
      "outputs": []
    },
    {
      "cell_type": "code",
      "source": [
        "from google.colab import drive\n",
        "drive.mount('/content/drive')"
      ],
      "metadata": {
        "colab": {
          "base_uri": "https://localhost:8080/"
        },
        "id": "Uvr7IHFuNuV_",
        "outputId": "ef1d3865-cf5a-4d76-98d7-2998fd51ab02"
      },
      "execution_count": 82,
      "outputs": [
        {
          "output_type": "stream",
          "name": "stdout",
          "text": [
            "Mounted at /content/drive\n"
          ]
        }
      ]
    },
    {
      "cell_type": "code",
      "source": [
        "df1 = s1.toPandas()\n",
        "print(df1)"
      ],
      "metadata": {
        "colab": {
          "base_uri": "https://localhost:8080/"
        },
        "id": "c79KSW4mN6We",
        "outputId": "79e0f153-bee1-4f34-9714-019b4d4b8b02"
      },
      "execution_count": 83,
      "outputs": [
        {
          "output_type": "stream",
          "name": "stdout",
          "text": [
            "                   winner  tournament_name\n",
            "0       Steinitz, William   WorldChamp1886\n",
            "1       Steinitz, William   WorldChamp1889\n",
            "2       Steinitz, William   WorldChamp1890\n",
            "3       Steinitz, William   WorldChamp1892\n",
            "4         Lasker, Emanuel   WorldChamp1894\n",
            "5         Lasker, Emanuel   WorldChamp1896\n",
            "6         Lasker, Emanuel   WorldChamp1907\n",
            "7         Lasker, Emanuel   WorldChamp1908\n",
            "8         Lasker, Emanuel   WorldChamp1909\n",
            "9        Schlechter, Carl  WorldChamp1910a\n",
            "10        Lasker, Emanuel  WorldChamp1910b\n",
            "11  Capablanca, Jose Raul   WorldChamp1921\n",
            "12    Alekhine, Alexander   WorldChamp1927\n",
            "13    Alekhine, Alexander   WorldChamp1929\n",
            "14    Alekhine, Alexander   WorldChamp1934\n",
            "15              Euwe, Max   WorldChamp1935\n",
            "16    Alekhine, Alexander   WorldChamp1937\n",
            "17     Botvinnik, Mikhail   WorldChamp1948\n",
            "18     Botvinnik, Mikhail   WorldChamp1951\n",
            "19     Botvinnik, Mikhail   WorldChamp1954\n",
            "20       Smyslov, Vassily   WorldChamp1957\n",
            "21     Botvinnik, Mikhail   WorldChamp1958\n",
            "22            Tal, Mihail   WorldChamp1960\n",
            "23     Botvinnik, Mikhail   WorldChamp1961\n",
            "24    Petrosian, Tigran V   WorldChamp1963\n",
            "25    Petrosian, Tigran V   WorldChamp1966\n",
            "26       Spassky, Boris V   WorldChamp1969\n",
            "27  Fischer, Robert James   WorldChamp1972\n",
            "28        Karpov, Anatoly   WorldChamp1978\n",
            "29        Karpov, Anatoly   WorldChamp1981\n",
            "30        Karpov, Anatoly   WorldChamp1984\n",
            "31         Kasparov, Gary   WorldChamp1985\n",
            "32         Kasparov, Gary   WorldChamp1986\n",
            "33         Kasparov, Gary   WorldChamp1987\n",
            "34         Kasparov, Gary   WorldChamp1990\n",
            "35              Kramnik,V   WorldChamp2000\n",
            "36              Kramnik,V   WorldChamp2004\n",
            "37              Kramnik,V   WorldChamp2006\n",
            "38                Anand,V   WorldChamp2007\n",
            "39                Anand,V   WorldChamp2008\n",
            "40                Anand,V   WorldChamp2010\n",
            "41              Gelfand,B   WorldChamp2012\n",
            "42        Carlsen, Magnus   WorldChamp2013\n",
            "43        Carlsen, Magnus   WorldChamp2014\n",
            "44        Carlsen, Magnus   WorldChamp2016\n",
            "45              Carlsen,M   WorldChamp2021\n"
          ]
        }
      ]
    },
    {
      "cell_type": "code",
      "source": [
        "df2 = s2.toPandas()\n",
        "print(df2)"
      ],
      "metadata": {
        "colab": {
          "base_uri": "https://localhost:8080/"
        },
        "id": "7AKcY1CnTrJS",
        "outputId": "f1f9016a-31c5-4503-cf54-0211400398ae"
      },
      "execution_count": 127,
      "outputs": [
        {
          "output_type": "stream",
          "name": "stdout",
          "text": [
            "              player_name  number_of_wins\n",
            "0         Lasker, Emanuel               6\n",
            "1          Kasparov, Gary               6\n",
            "2         Karpov, Anatoly               5\n",
            "3      Botvinnik, Mikhail               5\n",
            "4       Steinitz, William               4\n",
            "5     Alekhine, Alexander               4\n",
            "6                 Anand,V               4\n",
            "7               Kramnik,V               3\n",
            "8         Carlsen, Magnus               3\n",
            "9     Petrosian, Tigran V               2\n",
            "10              Carlsen,M               1\n",
            "11           Ponomariov,R               1\n",
            "12         Kasimdzhanov,R               1\n",
            "13     Anand, Viswanathan               1\n",
            "14              Topalov,V               1\n",
            "15       Spassky, Boris V               1\n",
            "16   Khalifman, Alexander               1\n",
            "17  Fischer, Robert James               1\n",
            "18  Capablanca, Jose Raul               1\n",
            "19       Smyslov, Vassily               1\n",
            "20       Schlechter, Carl               1\n",
            "21            Tal, Mihail               1\n",
            "22              Gelfand,B               1\n",
            "23              Euwe, Max               1\n"
          ]
        }
      ]
    },
    {
      "cell_type": "code",
      "source": [
        "df3 = s3.toPandas()\n",
        "print(df3)"
      ],
      "metadata": {
        "colab": {
          "base_uri": "https://localhost:8080/"
        },
        "id": "DT2xK9PlTvf9",
        "outputId": "5b7491cf-81cc-4942-dd67-689edd42a8ce"
      },
      "execution_count": 103,
      "outputs": [
        {
          "output_type": "stream",
          "name": "stdout",
          "text": [
            "   eco            eco_name  occurence_no\n",
            "0  C42      Petrov Defense            21\n",
            "1  A44  Old Benoni Defense             1\n"
          ]
        }
      ]
    },
    {
      "cell_type": "code",
      "source": [
        "df4 = s4.toPandas()\n",
        "print(df4)"
      ],
      "metadata": {
        "colab": {
          "base_uri": "https://localhost:8080/"
        },
        "id": "4O6eNRWAT0T0",
        "outputId": "f1f4a97d-7f75-4150-99bc-38a96d5c838c"
      },
      "execution_count": 104,
      "outputs": [
        {
          "output_type": "stream",
          "name": "stdout",
          "text": [
            "   eco           eco_name\n",
            "0  B90  Sicilian, Najdorf\n"
          ]
        }
      ]
    },
    {
      "cell_type": "code",
      "source": [
        "df5 = s5.toPandas()\n",
        "print(df5)"
      ],
      "metadata": {
        "colab": {
          "base_uri": "https://localhost:8080/"
        },
        "id": "-qg1q34sT64m",
        "outputId": "8b03522e-5d44-4d29-e1a5-a0c7300ac3e8"
      },
      "execution_count": 106,
      "outputs": [
        {
          "output_type": "stream",
          "name": "stdout",
          "text": [
            "                                game_id                    event  \\\n",
            "0  58e83255-93bb-4d58-8c14-78a991419338                 WCh 2021   \n",
            "1  1846cede-0037-4f04-9dc2-bf948cf08d72  World Championship 28th   \n",
            "\n",
            "  tournament_name  move_no_pair  \n",
            "0  WorldChamp2021           136  \n",
            "1  WorldChamp1972             1  \n"
          ]
        }
      ]
    },
    {
      "cell_type": "code",
      "source": [
        "df6 = s6.toPandas()\n",
        "print(df6)"
      ],
      "metadata": {
        "colab": {
          "base_uri": "https://localhost:8080/"
        },
        "id": "Zo8M6jFOT6mI",
        "outputId": "3457bc71-f995-4cb8-fc58-0134522b2c84"
      },
      "execution_count": 107,
      "outputs": [
        {
          "output_type": "stream",
          "name": "stdout",
          "text": [
            "                                game_id          event tournament_name  \\\n",
            "0  88f34084-e4df-4908-b381-9502ca65e9bf    FIDE WCh KO   FideChamp2002   \n",
            "1  a27c2b95-fb62-4b63-afc4-60bd5aced6d6  FIDE-Wch k.o.   FideChamp1998   \n",
            "\n",
            "   move_no_pair  \n",
            "0           129  \n",
            "1             6  \n"
          ]
        }
      ]
    },
    {
      "cell_type": "code",
      "source": [
        "df7 = s7.toPandas()\n",
        "print(df7)"
      ],
      "metadata": {
        "colab": {
          "base_uri": "https://localhost:8080/"
        },
        "id": "ljQKjOtCT550",
        "outputId": "019a93c5-2bac-4776-df3a-d56a8082a23d"
      },
      "execution_count": 108,
      "outputs": [
        {
          "output_type": "stream",
          "name": "stdout",
          "text": [
            "       player_name     elo\n",
            "0  Carlsen, Magnus  2870.0\n",
            "1        Abulhul,T  2076.0\n"
          ]
        }
      ]
    },
    {
      "cell_type": "code",
      "source": [
        "df8 = s8.toPandas()\n",
        "print(df8)"
      ],
      "metadata": {
        "colab": {
          "base_uri": "https://localhost:8080/"
        },
        "id": "hsHsNufHT5pw",
        "outputId": "97ac7094-4742-4054-c3c0-9ab784f3d004"
      },
      "execution_count": 109,
      "outputs": [
        {
          "output_type": "stream",
          "name": "stdout",
          "text": [
            "       player_name\n",
            "0  Karpov, Anatoly\n"
          ]
        }
      ]
    },
    {
      "cell_type": "code",
      "source": [
        "df9 = s9.toPandas()\n",
        "print(df9)"
      ],
      "metadata": {
        "colab": {
          "base_uri": "https://localhost:8080/"
        },
        "id": "2BFHdRZ3T5Zq",
        "outputId": "e42c2c51-11f7-468c-9dce-0e6b68bba475"
      },
      "execution_count": 110,
      "outputs": [
        {
          "output_type": "stream",
          "name": "stdout",
          "text": [
            "                                  game_id  game_order  \\\n",
            "0    8a49457a-7c11-436b-816c-f0f8ecf12ea3           8   \n",
            "1    e8e1e55d-e0d2-4678-bdaf-9f3248deb6eb           3   \n",
            "2    85f912a4-3e0a-4abd-8634-eba751a6f992           7   \n",
            "3    600bf35b-8d76-4b20-a47a-13eb511b8b78           2   \n",
            "4    16ebe3b8-9be4-480f-bc2e-796850a97fdd           4   \n",
            "..                                    ...         ...   \n",
            "342  3012daa6-2f6b-4a0f-9a8b-f0cd32b83144          29   \n",
            "343  1d764dcb-ef38-4eea-9a8f-7762fce07a08          31   \n",
            "344  a1460493-82a7-4397-bcd7-8232fce89073           1   \n",
            "345  1846cede-0037-4f04-9dc2-bf948cf08d72           2   \n",
            "346  6bf95c7f-30b8-4546-ac00-ad69233de15a          11   \n",
            "\n",
            "                       event          site date_played  round  \\\n",
            "0                   WCh 2016  New York USA  2016.11.21    8.0   \n",
            "1                   WCh 2014     Sochi RUS  2014.11.11    3.0   \n",
            "2                   WCh 2012    Moscow RUS  2012.05.20    7.0   \n",
            "3                        WCh     Sofia BUL  2010.04.25    2.0   \n",
            "4                        WCh     Sofia BUL  2010.04.28    4.0   \n",
            "..                       ...           ...         ...    ...   \n",
            "342  World Championship 29th   Baguio City  1978.??.??   29.0   \n",
            "343  World Championship 29th   Baguio City  1978.??.??   31.0   \n",
            "344  World Championship 28th     Reykjavik  1972.??.??    1.0   \n",
            "345  World Championship 28th     Reykjavik  1972.??.??    2.0   \n",
            "346  World Championship 28th     Reykjavik  1972.??.??   11.0   \n",
            "\n",
            "                     white                  black result  white_elo  ...  \\\n",
            "0          Carlsen, Magnus       Karjakin, Sergey    0-1       2853  ...   \n",
            "1       Anand, Viswanathan        Carlsen, Magnus    1-0       2792  ...   \n",
            "2                Gelfand,B                Anand,V    1-0       2727  ...   \n",
            "3                  Anand,V              Topalov,V    1-0       2787  ...   \n",
            "4                  Anand,V              Topalov,V    1-0       2787  ...   \n",
            "..                     ...                    ...    ...        ...  ...   \n",
            "342     Kortschnoj, Viktor        Karpov, Anatoly    1-0       2665  ...   \n",
            "343     Kortschnoj, Viktor        Karpov, Anatoly    1-0       2665  ...   \n",
            "344       Spassky, Boris V  Fischer, Robert James    1-0       2660  ...   \n",
            "345  Fischer, Robert James       Spassky, Boris V    0-1       2785  ...   \n",
            "346       Spassky, Boris V  Fischer, Robert James    1-0       2660  ...   \n",
            "\n",
            "     white_title black_title              winner winner_elo  \\\n",
            "0             GM          GM    Karjakin, Sergey       2772   \n",
            "1             GM          GM  Anand, Viswanathan       2792   \n",
            "2           None        None           Gelfand,B       2727   \n",
            "3           None        None             Anand,V       2787   \n",
            "4           None        None             Anand,V       2787   \n",
            "..           ...         ...                 ...        ...   \n",
            "342         None        None  Kortschnoj, Viktor       2665   \n",
            "343         None        None  Kortschnoj, Viktor       2665   \n",
            "344         None        None    Spassky, Boris V       2660   \n",
            "345         None        None    Spassky, Boris V       2660   \n",
            "346         None        None    Spassky, Boris V       2660   \n",
            "\n",
            "                     loser loser_elo  winner_loser_elo_diff  eco  \\\n",
            "0          Carlsen, Magnus      2853                    -81  D05   \n",
            "1          Carlsen, Magnus      2863                    -71  D37   \n",
            "2                  Anand,V      2791                    -64  D45   \n",
            "3                Topalov,V      2805                    -18  E04   \n",
            "4                Topalov,V      2805                    -18  E04   \n",
            "..                     ...       ...                    ...  ...   \n",
            "342        Karpov, Anatoly      2725                    -60  A19   \n",
            "343        Karpov, Anatoly      2725                    -60  D36   \n",
            "344  Fischer, Robert James      2785                   -125  E56   \n",
            "345  Fischer, Robert James      2785                   -125  A00   \n",
            "346  Fischer, Robert James      2785                   -125  B97   \n",
            "\n",
            "                 date_created tournament_name  \n",
            "0    2022-07-22T22:33:51+0000  WorldChamp2016  \n",
            "1    2022-07-22T22:33:52+0000  WorldChamp2014  \n",
            "2    2022-07-22T22:33:53+0000  WorldChamp2012  \n",
            "3    2022-07-22T22:33:54+0000  WorldChamp2010  \n",
            "4    2022-07-22T22:33:54+0000  WorldChamp2010  \n",
            "..                        ...             ...  \n",
            "342  2022-07-22T22:35:26+0000  WorldChamp1978  \n",
            "343  2022-07-22T22:35:26+0000  WorldChamp1978  \n",
            "344  2022-07-22T22:35:28+0000  WorldChamp1972  \n",
            "345  2022-07-22T22:35:28+0000  WorldChamp1972  \n",
            "346  2022-07-22T22:35:28+0000  WorldChamp1972  \n",
            "\n",
            "[347 rows x 21 columns]\n"
          ]
        }
      ]
    },
    {
      "cell_type": "code",
      "source": [
        "df11 = s11.toPandas()\n",
        "print(df11)"
      ],
      "metadata": {
        "colab": {
          "base_uri": "https://localhost:8080/"
        },
        "id": "UO_xNJleT4ZT",
        "outputId": "330b433b-e8da-4a00-ab67-a6cbde64bd97"
      },
      "execution_count": 112,
      "outputs": [
        {
          "output_type": "stream",
          "name": "stdout",
          "text": [
            "                                     game_id  game_order  \\\n",
            "0       58e83255-93bb-4d58-8c14-78a991419338           6   \n",
            "1       58e83255-93bb-4d58-8c14-78a991419338           6   \n",
            "2       58e83255-93bb-4d58-8c14-78a991419338           6   \n",
            "3       58e83255-93bb-4d58-8c14-78a991419338           6   \n",
            "4       58e83255-93bb-4d58-8c14-78a991419338           6   \n",
            "...                                      ...         ...   \n",
            "131127  e2b30bf5-98c8-4651-b665-e400ba21aa47          20   \n",
            "131128  e2b30bf5-98c8-4651-b665-e400ba21aa47          20   \n",
            "131129  e2b30bf5-98c8-4651-b665-e400ba21aa47          20   \n",
            "131130  e2b30bf5-98c8-4651-b665-e400ba21aa47          20   \n",
            "131131  e2b30bf5-98c8-4651-b665-e400ba21aa47          20   \n",
            "\n",
            "                         event       site date_played  round  \\\n",
            "0                     WCh 2021  Dubai UAE  2021.12.03    6.0   \n",
            "1                     WCh 2021  Dubai UAE  2021.12.03    6.0   \n",
            "2                     WCh 2021  Dubai UAE  2021.12.03    6.0   \n",
            "3                     WCh 2021  Dubai UAE  2021.12.03    6.0   \n",
            "4                     WCh 2021  Dubai UAE  2021.12.03    6.0   \n",
            "...                        ...        ...         ...    ...   \n",
            "131127  World Championship 1st        USA  1886.??.??   20.0   \n",
            "131128  World Championship 1st        USA  1886.??.??   20.0   \n",
            "131129  World Championship 1st        USA  1886.??.??   20.0   \n",
            "131130  World Championship 1st        USA  1886.??.??   20.0   \n",
            "131131  World Championship 1st        USA  1886.??.??   20.0   \n",
            "\n",
            "                    white                        black result  white_elo  ...  \\\n",
            "0               Carlsen,M             Nepomniachtchi,I    1-0     2855.0  ...   \n",
            "1               Carlsen,M             Nepomniachtchi,I    1-0     2855.0  ...   \n",
            "2               Carlsen,M             Nepomniachtchi,I    1-0     2855.0  ...   \n",
            "3               Carlsen,M             Nepomniachtchi,I    1-0     2855.0  ...   \n",
            "4               Carlsen,M             Nepomniachtchi,I    1-0     2855.0  ...   \n",
            "...                   ...                          ...    ...        ...  ...   \n",
            "131127  Steinitz, William  Zukertort, Johannes Hermann    1-0        NaN  ...   \n",
            "131128  Steinitz, William  Zukertort, Johannes Hermann    1-0        NaN  ...   \n",
            "131129  Steinitz, William  Zukertort, Johannes Hermann    1-0        NaN  ...   \n",
            "131130  Steinitz, William  Zukertort, Johannes Hermann    1-0        NaN  ...   \n",
            "131131  Steinitz, William  Zukertort, Johannes Hermann    1-0        NaN  ...   \n",
            "\n",
            "        fen_row8_black_count fen_row1_black_value fen_row2_black_value  \\\n",
            "0                          8                    0                    0   \n",
            "1                          7                    0                    0   \n",
            "2                          7                    0                    0   \n",
            "3                          7                    0                    0   \n",
            "4                          7                    0                    0   \n",
            "...                      ...                  ...                  ...   \n",
            "131127                     3                    0                    0   \n",
            "131128                     3                    0                    0   \n",
            "131129                     3                    0                    0   \n",
            "131130                     2                    0                    0   \n",
            "131131                     2                    0                    0   \n",
            "\n",
            "       fen_row3_black_value  fen_row4_black_value fen_row5_black_value  \\\n",
            "0                         0                     0                    0   \n",
            "1                         0                     0                    0   \n",
            "2                         0                     0                    0   \n",
            "3                         0                     0                    1   \n",
            "4                         0                     0                    1   \n",
            "...                     ...                   ...                  ...   \n",
            "131127                    0                     9                    0   \n",
            "131128                    0                     9                    0   \n",
            "131129                    0                     9                    0   \n",
            "131130                    0                     9                    0   \n",
            "131131                    0                     0                    0   \n",
            "\n",
            "        fen_row6_black_value  fen_row7_black_value fen_row8_black_value  \\\n",
            "0                          0                     8                   31   \n",
            "1                          3                     8                   28   \n",
            "2                          3                     8                   28   \n",
            "3                          3                     7                   28   \n",
            "4                          3                     7                   28   \n",
            "...                      ...                   ...                  ...   \n",
            "131127                     1                    11                   10   \n",
            "131128                     2                    10                   10   \n",
            "131129                     1                    10                   10   \n",
            "131130                     1                    10                   10   \n",
            "131131                     1                    10                   10   \n",
            "\n",
            "                                            move_sequence  \n",
            "0                                                      d4  \n",
            "1                                                  d4|Nf6  \n",
            "2                                              d4|Nf6|Nf3  \n",
            "3                                           d4|Nf6|Nf3|d5  \n",
            "4                                        d4|Nf6|Nf3|d5|g3  \n",
            "...                                                   ...  \n",
            "131127  e4|e5|Nc3|Nc6|f4|exf4|d4|d5|exd5|Qh4+|Ke2|Qe7+...  \n",
            "131128  e4|e5|Nc3|Nc6|f4|exf4|d4|d5|exd5|Qh4+|Ke2|Qe7+...  \n",
            "131129  e4|e5|Nc3|Nc6|f4|exf4|d4|d5|exd5|Qh4+|Ke2|Qe7+...  \n",
            "131130  e4|e5|Nc3|Nc6|f4|exf4|d4|d5|exd5|Qh4+|Ke2|Qe7+...  \n",
            "131131  e4|e5|Nc3|Nc6|f4|exf4|d4|d5|exd5|Qh4+|Ke2|Qe7+...  \n",
            "\n",
            "[131132 rows x 84 columns]\n"
          ]
        }
      ]
    },
    {
      "cell_type": "code",
      "source": [
        "df14 = s14.toPandas()\n",
        "print(df14)"
      ],
      "metadata": {
        "colab": {
          "base_uri": "https://localhost:8080/"
        },
        "id": "_Dvy9RRAT4H2",
        "outputId": "66b04d2f-2c65-430b-ea5d-db3f6158e997"
      },
      "execution_count": 113,
      "outputs": [
        {
          "output_type": "stream",
          "name": "stdout",
          "text": [
            "      player_name\n",
            "0  Andersson, Ulf\n"
          ]
        }
      ]
    },
    {
      "cell_type": "code",
      "source": [
        "df1.to_csv('/content/drive/MyDrive/DE_SOLUTION_Swasthika_Venkataraman/results/df1.csv', encoding='utf-8', index=False)"
      ],
      "metadata": {
        "id": "w5jfuOtDOTZU"
      },
      "execution_count": 141,
      "outputs": []
    },
    {
      "cell_type": "code",
      "source": [
        "df2.to_csv('/content/drive/MyDrive/DE_SOLUTION_Swasthika_Venkataraman/results/df2.csv', encoding='utf-8', index=False)"
      ],
      "metadata": {
        "id": "Q6olSGBNOzKc"
      },
      "execution_count": 142,
      "outputs": []
    },
    {
      "cell_type": "code",
      "source": [
        "df3.to_csv('/content/drive/MyDrive/DE_SOLUTION_Swasthika_Venkataraman/results/df3.csv', encoding='utf-8', index=False)"
      ],
      "metadata": {
        "id": "VTFZEFQDVbPU"
      },
      "execution_count": 143,
      "outputs": []
    },
    {
      "cell_type": "code",
      "source": [
        "df4.to_csv('/content/drive/MyDrive/DE_SOLUTION_Swasthika_Venkataraman/results/df4.csv', encoding='utf-8', index=False)"
      ],
      "metadata": {
        "id": "ikGtuTmPVcLP"
      },
      "execution_count": 144,
      "outputs": []
    },
    {
      "cell_type": "code",
      "source": [
        "df5.to_csv('/content/drive/MyDrive/DE_SOLUTION_Swasthika_Venkataraman/results/df5.csv', encoding='utf-8', index=False)"
      ],
      "metadata": {
        "id": "qyhk6M4cVclK"
      },
      "execution_count": 145,
      "outputs": []
    },
    {
      "cell_type": "code",
      "source": [
        "df6.to_csv('/content/drive/MyDrive/DE_SOLUTION_Swasthika_Venkataraman/results/df6.csv', encoding='utf-8', index=False)"
      ],
      "metadata": {
        "id": "2XINxKUuVdTY"
      },
      "execution_count": 146,
      "outputs": []
    },
    {
      "cell_type": "code",
      "source": [
        "df7.to_csv('/content/drive/MyDrive/DE_SOLUTION_Swasthika_Venkataraman/results/df7.csv', encoding='utf-8', index=False)"
      ],
      "metadata": {
        "id": "2fGnEc3WVdv8"
      },
      "execution_count": 147,
      "outputs": []
    },
    {
      "cell_type": "code",
      "source": [
        "df8.to_csv('/content/drive/MyDrive/DE_SOLUTION_Swasthika_Venkataraman/results/df8.csv', encoding='utf-8', index=False)"
      ],
      "metadata": {
        "id": "yU3QEqZMVeFL"
      },
      "execution_count": 148,
      "outputs": []
    },
    {
      "cell_type": "code",
      "source": [
        "df9.to_csv('/content/drive/MyDrive/DE_SOLUTION_Swasthika_Venkataraman/results/df9.csv', encoding='utf-8', index=False)"
      ],
      "metadata": {
        "id": "a3IfO5OAVeni"
      },
      "execution_count": 149,
      "outputs": []
    },
    {
      "cell_type": "code",
      "source": [
        "df11.to_csv('/content/drive/MyDrive/DE_SOLUTION_Swasthika_Venkataraman/results/df11.csv', encoding='utf-8', index=False)"
      ],
      "metadata": {
        "id": "1Bm6SZtXVfGa"
      },
      "execution_count": 150,
      "outputs": []
    },
    {
      "cell_type": "code",
      "source": [
        "df14.to_csv('/content/drive/MyDrive/DE_SOLUTION_Swasthika_Venkataraman/results/df14.csv', encoding='utf-8', index=False)"
      ],
      "metadata": {
        "id": "SROUkEG8Vfye"
      },
      "execution_count": 152,
      "outputs": []
    },
    {
      "cell_type": "code",
      "source": [],
      "metadata": {
        "id": "IfPs_601VhCj"
      },
      "execution_count": 140,
      "outputs": []
    },
    {
      "cell_type": "code",
      "source": [],
      "metadata": {
        "id": "k3wmzcmiVhky"
      },
      "execution_count": 140,
      "outputs": []
    }
  ]
}